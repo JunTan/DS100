{
 "cells": [
  {
   "cell_type": "markdown",
   "metadata": {},
   "source": [
    "# Homework 2: Language in the 2016 Presidential Election\n",
    "Popular figures often have help managing their media presence.  In the 2016 election, Twitter was an important communication medium for every major candidate.  Many Twitter posts posted by the top two candidates were actually written by their aides.  You might wonder how this affected the content or language of the tweets.\n",
    "\n",
    "In this assignment, we'll look at some of the patterns in tweets by the top two candidates, Clinton and Trump.  We'll start with Clinton.\n",
    "\n",
    "Along the way, you'll get a first look at Pandas.  Pandas is a Python package that provides a `DataFrame` data structure similar to the `datascience` package's `Table`, which you might remember from Data 8.  `DataFrame`s are a bit harder to use than `Table`s, but they provide more advanced functionality and are a standard tool for data analysis in Python."
   ]
  },
  {
   "cell_type": "markdown",
   "metadata": {},
   "source": [
    "Some of the analysis in this assignment is based on a [post by David Robinson](http://varianceexplained.org/r/trump-tweets/).  Feel free to read the post, but do not copy from it!  David's post is written in the `R` programming language, which is a favorite of many data analysts, especially academic statisticians.  Once you're done with your analysis, you may find it interesting to see whether `R` is easier to use for this task."
   ]
  },
  {
   "cell_type": "markdown",
   "metadata": {},
   "source": [
    "To start the assignment, run the cell below to set up some imports and the automatic tests."
   ]
  },
  {
   "cell_type": "code",
   "execution_count": 1,
   "metadata": {
    "collapsed": false,
    "scrolled": true
   },
   "outputs": [
    {
     "name": "stdout",
     "output_type": "stream",
     "text": [
      "Requirement already up-to-date: okpy in /Users/juntan/anaconda3/envs/datascience/lib/python3.5/site-packages\n",
      "Requirement already up-to-date: requests==2.12.4 in /Users/juntan/anaconda3/envs/datascience/lib/python3.5/site-packages (from okpy)\n",
      "=====================================================================\n",
      "Assignment: Homework 2\n",
      "OK, version v1.9.6\n",
      "=====================================================================\n",
      "\n"
     ]
    }
   ],
   "source": [
    "import math\n",
    "import numpy as np\n",
    "import matplotlib\n",
    "%matplotlib inline\n",
    "import matplotlib.pyplot as plt\n",
    "\n",
    "!pip install -U okpy\n",
    "from client.api.notebook import Notebook\n",
    "ok = Notebook('hw2.ok')"
   ]
  },
  {
   "cell_type": "markdown",
   "metadata": {},
   "source": [
    "## Getting the dataset\n",
    "Since we'll be looking at Twitter data, we need to download the data from Twitter!\n",
    "\n",
    "Twitter provides an API for downloading tweet data in large batches.  The `tweepy` package makes it fairly easy to use."
   ]
  },
  {
   "cell_type": "markdown",
   "metadata": {},
   "source": [
    "#### Question 0\n",
    "Install `tweepy`, if you don't already have it.  (Be sure to activate your Conda environment for the class first.  Then run `pip install tweepy`.)"
   ]
  },
  {
   "cell_type": "markdown",
   "metadata": {},
   "source": [
    "There are instructions on using `tweepy` [here](http://tweepy.readthedocs.io/en/v3.5.0/getting_started.html), but we will give you example code.\n",
    "\n",
    "Twitter requires you to have authentication keys to access their API.  To get your keys, you'll have to sign up as a Twitter developer."
   ]
  },
  {
   "cell_type": "markdown",
   "metadata": {},
   "source": [
    "#### Question 1\n",
    "Follow these instructions to get your keys:\n",
    "\n",
    "1. [Create a Twitter account](https://twitter.com).  You can use an existing account if you have one.\n",
    "2. Under account settings, add your phone number to the account.\n",
    "3. [Create a Twitter developer account](https://dev.twitter.com/resources/signup).  Attach it to your Twitter account.\n",
    "4. Once you're logged into your developer account, [create an application for this assignment](https://apps.twitter.com/app/new).  You can call it whatever you want, and you can write any URL when it asks for a web site.\n",
    "5. On the page for that application, find your Consumer Key and Consumer Secret.\n",
    "6. On the same page, create an Access Token.  Record the resulting Access Token and Access Token Secret.\n",
    "7. Edit the file [keys.json](keys.json) and replace the placeholders with your keys.  Don't turn in that file."
   ]
  },
  {
   "cell_type": "markdown",
   "metadata": {},
   "source": [
    "## I AM AN IMPORTANT NOTE.  DO NOT SKIP ME.\n",
    "If someone has your authentication keys, they can access your Twitter account and post as you!  So don't give them to anyone, and **don't write them down in this notebook**.  The usual way to store sensitive information like this is to put it in a separate file and read it programmatically.  That way, you can share the rest of your code without sharing your keys.  That's why we're asking you to put your keys in `keys.json` for this assignment.\n",
    "\n",
    "## I AM A SECOND IMPORTANT NOTE.\n",
    "Twitter limits developers to a certain rate of requests for data.  If you make too many requests in a short period of time, you'll have to wait awhile (around 15 minutes) before you can make more.  So carefully follow the code examples you see and don't rerun cells without thinking.  Instead, always save the data you've collected to a file.  We've provided templates to help you do that."
   ]
  },
  {
   "cell_type": "markdown",
   "metadata": {},
   "source": [
    "In the example below, we have loaded some tweets by @BerkeleyData.  Run it, inspect the output, and read the code."
   ]
  },
  {
   "cell_type": "code",
   "execution_count": 2,
   "metadata": {
    "collapsed": false
   },
   "outputs": [],
   "source": [
    "ds_tweets_save_path = \"BerkeleyData_recent_tweets.pkl\"\n",
    "from pathlib import Path\n",
    "# Guarding against attempts to download the data multiple\n",
    "# times:\n",
    "if not Path(ds_tweets_save_path).is_file():\n",
    "    import json\n",
    "    # Loading your keys from keys.json (which you should have filled\n",
    "    # in in question 1):\n",
    "    with open(\"keys.json\") as f:\n",
    "        keys = json.load(f)\n",
    "\n",
    "    import tweepy\n",
    "\n",
    "    # Authenticating:\n",
    "    auth = tweepy.OAuthHandler(keys[\"consumer_key\"], keys[\"consumer_secret\"])\n",
    "    auth.set_access_token(keys[\"access_token\"], keys[\"access_token_secret\"])\n",
    "    api = tweepy.API(auth)\n",
    "\n",
    "    # Getting as many recent tweets by @BerkeleyData as Twitter will let us have:\n",
    "    example_tweets = list(tweepy.Cursor(api.user_timeline, id=\"BerkeleyData\").items())\n",
    "\n",
    "    # Saving the tweets to a file as \"pickled\" objects:\n",
    "    with open(ds_tweets_save_path, \"wb\") as f:\n",
    "        import pickle\n",
    "        pickle.dump(example_tweets, f)\n",
    "\n",
    "# Re-loading the results:\n",
    "with open(ds_tweets_save_path, \"rb\") as f:\n",
    "    import pickle\n",
    "    example_tweets = pickle.load(f)"
   ]
  },
  {
   "cell_type": "code",
   "execution_count": 3,
   "metadata": {
    "collapsed": false
   },
   "outputs": [
    {
     "data": {
      "text/plain": [
       "Status(is_quote_status=False, in_reply_to_status_id_str=None, retweet_count=3, in_reply_to_user_id_str=None, user=User(profile_image_url_https='https://pbs.twimg.com/profile_images/378800000146514422/6d9a5af0a0abb83d4cfe2d0ab2067ecb_normal.jpeg', created_at=datetime.datetime(2013, 2, 28, 14, 37, 26), notifications=False, id=1227698863, entities={'description': {'urls': [{'display_url': 'bit.ly/tBerkeleyData', 'expanded_url': 'http://bit.ly/tBerkeleyData', 'indices': [122, 144], 'url': 'http://t.co/zf6gfBWovQ'}]}, 'url': {'urls': [{'display_url': 'datascience.berkeley.edu', 'expanded_url': 'http://datascience.berkeley.edu', 'indices': [0, 22], 'url': 'http://t.co/S79Ul3oCaa'}]}}, favourites_count=41, utc_offset=-18000, profile_sidebar_fill_color='DDEEF6', name='datascience@berkeley', _json={'profile_image_url_https': 'https://pbs.twimg.com/profile_images/378800000146514422/6d9a5af0a0abb83d4cfe2d0ab2067ecb_normal.jpeg', 'id': 1227698863, 'listed_count': 437, 'friends_count': 403, 'following': False, 'url': 'http://t.co/S79Ul3oCaa', 'profile_sidebar_fill_color': 'DDEEF6', 'name': 'datascience@berkeley', 'utc_offset': -18000, 'notifications': False, 'profile_background_color': 'CCCCCC', 'protected': False, 'description': 'An online Master of Information and Data Science (MIDS) degree from the UC Berkeley School of Information. Learn more at: http://t.co/zf6gfBWovQ', 'is_translation_enabled': False, 'is_translator': False, 'contributors_enabled': False, 'lang': 'en', 'profile_sidebar_border_color': 'FFFFFF', 'profile_use_background_image': True, 'profile_background_image_url_https': 'https://pbs.twimg.com/profile_background_images/378800000096571211/5f9ba86a5d2b87c2c48544133c25b092.jpeg', 'entities': {'description': {'urls': [{'display_url': 'bit.ly/tBerkeleyData', 'expanded_url': 'http://bit.ly/tBerkeleyData', 'indices': [122, 144], 'url': 'http://t.co/zf6gfBWovQ'}]}, 'url': {'urls': [{'display_url': 'datascience.berkeley.edu', 'expanded_url': 'http://datascience.berkeley.edu', 'indices': [0, 22], 'url': 'http://t.co/S79Ul3oCaa'}]}}, 'translator_type': 'none', 'profile_text_color': '333333', 'favourites_count': 41, 'statuses_count': 2150, 'profile_banner_url': 'https://pbs.twimg.com/profile_banners/1227698863/1405953823', 'screen_name': 'BerkeleyData', 'followers_count': 9091, 'profile_background_tile': False, 'profile_background_image_url': 'http://pbs.twimg.com/profile_background_images/378800000096571211/5f9ba86a5d2b87c2c48544133c25b092.jpeg', 'follow_request_sent': False, 'geo_enabled': False, 'profile_link_color': '5173B6', 'profile_image_url': 'http://pbs.twimg.com/profile_images/378800000146514422/6d9a5af0a0abb83d4cfe2d0ab2067ecb_normal.jpeg', 'created_at': 'Thu Feb 28 14:37:26 +0000 2013', 'default_profile': False, 'has_extended_profile': False, 'location': 'Berkeley, CA', 'default_profile_image': False, 'time_zone': 'Eastern Time (US & Canada)', 'verified': False, 'id_str': '1227698863'}, profile_link_color='5173B6', profile_background_color='CCCCCC', protected=False, description='An online Master of Information and Data Science (MIDS) degree from the UC Berkeley School of Information. Learn more at: http://t.co/zf6gfBWovQ', is_translation_enabled=False, is_translator=False, following=False, lang='en', listed_count=437, friends_count=403, profile_background_image_url_https='https://pbs.twimg.com/profile_background_images/378800000096571211/5f9ba86a5d2b87c2c48544133c25b092.jpeg', profile_use_background_image=True, translator_type='none', profile_text_color='333333', statuses_count=2150, profile_banner_url='https://pbs.twimg.com/profile_banners/1227698863/1405953823', profile_sidebar_border_color='FFFFFF', screen_name='BerkeleyData', followers_count=9091, profile_background_tile=False, default_profile=False, follow_request_sent=False, geo_enabled=False, url='http://t.co/S79Ul3oCaa', profile_image_url='http://pbs.twimg.com/profile_images/378800000146514422/6d9a5af0a0abb83d4cfe2d0ab2067ecb_normal.jpeg', profile_background_image_url='http://pbs.twimg.com/profile_background_images/378800000096571211/5f9ba86a5d2b87c2c48544133c25b092.jpeg', location='Berkeley, CA', has_extended_profile=False, contributors_enabled=False, default_profile_image=False, time_zone='Eastern Time (US & Canada)', verified=False, id_str='1227698863'), entities={'urls': [], 'symbols': [], 'hashtags': [], 'user_mentions': [{'name': 'Feedspot Blog', 'id_str': '1464846492', 'screen_name': 'feedspotblog', 'id': 1464846492, 'indices': [3, 16]}, {'name': 'datascience@berkeley', 'id_str': '1227698863', 'screen_name': 'BerkeleyData', 'id': 1227698863, 'indices': [27, 40]}, {'name': 'Feedspot', 'id_str': '718606183', 'screen_name': '_feedspot', 'id': 718606183, 'indices': [113, 123]}]}, geo=None, id_str='825030144603480065', author=User(profile_image_url_https='https://pbs.twimg.com/profile_images/378800000146514422/6d9a5af0a0abb83d4cfe2d0ab2067ecb_normal.jpeg', created_at=datetime.datetime(2013, 2, 28, 14, 37, 26), notifications=False, id=1227698863, entities={'description': {'urls': [{'display_url': 'bit.ly/tBerkeleyData', 'expanded_url': 'http://bit.ly/tBerkeleyData', 'indices': [122, 144], 'url': 'http://t.co/zf6gfBWovQ'}]}, 'url': {'urls': [{'display_url': 'datascience.berkeley.edu', 'expanded_url': 'http://datascience.berkeley.edu', 'indices': [0, 22], 'url': 'http://t.co/S79Ul3oCaa'}]}}, favourites_count=41, utc_offset=-18000, profile_sidebar_fill_color='DDEEF6', name='datascience@berkeley', _json={'profile_image_url_https': 'https://pbs.twimg.com/profile_images/378800000146514422/6d9a5af0a0abb83d4cfe2d0ab2067ecb_normal.jpeg', 'id': 1227698863, 'listed_count': 437, 'friends_count': 403, 'following': False, 'url': 'http://t.co/S79Ul3oCaa', 'profile_sidebar_fill_color': 'DDEEF6', 'name': 'datascience@berkeley', 'utc_offset': -18000, 'notifications': False, 'profile_background_color': 'CCCCCC', 'protected': False, 'description': 'An online Master of Information and Data Science (MIDS) degree from the UC Berkeley School of Information. Learn more at: http://t.co/zf6gfBWovQ', 'is_translation_enabled': False, 'is_translator': False, 'contributors_enabled': False, 'lang': 'en', 'profile_sidebar_border_color': 'FFFFFF', 'profile_use_background_image': True, 'profile_background_image_url_https': 'https://pbs.twimg.com/profile_background_images/378800000096571211/5f9ba86a5d2b87c2c48544133c25b092.jpeg', 'entities': {'description': {'urls': [{'display_url': 'bit.ly/tBerkeleyData', 'expanded_url': 'http://bit.ly/tBerkeleyData', 'indices': [122, 144], 'url': 'http://t.co/zf6gfBWovQ'}]}, 'url': {'urls': [{'display_url': 'datascience.berkeley.edu', 'expanded_url': 'http://datascience.berkeley.edu', 'indices': [0, 22], 'url': 'http://t.co/S79Ul3oCaa'}]}}, 'translator_type': 'none', 'profile_text_color': '333333', 'favourites_count': 41, 'statuses_count': 2150, 'profile_banner_url': 'https://pbs.twimg.com/profile_banners/1227698863/1405953823', 'screen_name': 'BerkeleyData', 'followers_count': 9091, 'profile_background_tile': False, 'profile_background_image_url': 'http://pbs.twimg.com/profile_background_images/378800000096571211/5f9ba86a5d2b87c2c48544133c25b092.jpeg', 'follow_request_sent': False, 'geo_enabled': False, 'profile_link_color': '5173B6', 'profile_image_url': 'http://pbs.twimg.com/profile_images/378800000146514422/6d9a5af0a0abb83d4cfe2d0ab2067ecb_normal.jpeg', 'created_at': 'Thu Feb 28 14:37:26 +0000 2013', 'default_profile': False, 'has_extended_profile': False, 'location': 'Berkeley, CA', 'default_profile_image': False, 'time_zone': 'Eastern Time (US & Canada)', 'verified': False, 'id_str': '1227698863'}, profile_link_color='5173B6', profile_background_color='CCCCCC', protected=False, description='An online Master of Information and Data Science (MIDS) degree from the UC Berkeley School of Information. Learn more at: http://t.co/zf6gfBWovQ', is_translation_enabled=False, is_translator=False, following=False, lang='en', listed_count=437, friends_count=403, profile_background_image_url_https='https://pbs.twimg.com/profile_background_images/378800000096571211/5f9ba86a5d2b87c2c48544133c25b092.jpeg', profile_use_background_image=True, translator_type='none', profile_text_color='333333', statuses_count=2150, profile_banner_url='https://pbs.twimg.com/profile_banners/1227698863/1405953823', profile_sidebar_border_color='FFFFFF', screen_name='BerkeleyData', followers_count=9091, profile_background_tile=False, default_profile=False, follow_request_sent=False, geo_enabled=False, url='http://t.co/S79Ul3oCaa', profile_image_url='http://pbs.twimg.com/profile_images/378800000146514422/6d9a5af0a0abb83d4cfe2d0ab2067ecb_normal.jpeg', profile_background_image_url='http://pbs.twimg.com/profile_background_images/378800000096571211/5f9ba86a5d2b87c2c48544133c25b092.jpeg', location='Berkeley, CA', has_extended_profile=False, contributors_enabled=False, default_profile_image=False, time_zone='Eastern Time (US & Canada)', verified=False, id_str='1227698863'), retweeted_status=Status(is_quote_status=False, in_reply_to_status_id_str=None, retweet_count=3, in_reply_to_user_id_str=None, user=User(profile_image_url_https='https://pbs.twimg.com/profile_images/759984800178565120/BN4EputE_normal.jpg', created_at=datetime.datetime(2013, 5, 28, 14, 46, 28), notifications=False, id=1464846492, entities={'description': {'urls': [{'display_url': 'Feedspot.com', 'expanded_url': 'http://Feedspot.com', 'indices': [43, 66], 'url': 'https://t.co/7NHgrBZhlK'}]}, 'url': {'urls': [{'display_url': 'feedspot.com', 'expanded_url': 'http://www.feedspot.com/', 'indices': [0, 23], 'url': 'https://t.co/MRdTi67qWm'}]}}, favourites_count=1293, utc_offset=-28800, profile_sidebar_fill_color='DDEEF6', name='Feedspot Blog', _json={'profile_image_url_https': 'https://pbs.twimg.com/profile_images/759984800178565120/BN4EputE_normal.jpg', 'id': 1464846492, 'listed_count': 41, 'friends_count': 62, 'following': False, 'url': 'https://t.co/MRdTi67qWm', 'profile_sidebar_fill_color': 'DDEEF6', 'name': 'Feedspot Blog', 'utc_offset': -28800, 'notifications': False, 'profile_background_color': 'C0DEED', 'protected': False, 'description': 'Discover great blogs to read on @_feedspot https://t.co/7NHgrBZhlK', 'is_translation_enabled': False, 'is_translator': False, 'contributors_enabled': False, 'lang': 'en', 'profile_sidebar_border_color': 'C0DEED', 'profile_use_background_image': True, 'profile_background_image_url_https': 'https://abs.twimg.com/images/themes/theme1/bg.png', 'entities': {'description': {'urls': [{'display_url': 'Feedspot.com', 'expanded_url': 'http://Feedspot.com', 'indices': [43, 66], 'url': 'https://t.co/7NHgrBZhlK'}]}, 'url': {'urls': [{'display_url': 'feedspot.com', 'expanded_url': 'http://www.feedspot.com/', 'indices': [0, 23], 'url': 'https://t.co/MRdTi67qWm'}]}}, 'translator_type': 'none', 'profile_text_color': '333333', 'favourites_count': 1293, 'statuses_count': 14395, 'profile_banner_url': 'https://pbs.twimg.com/profile_banners/1464846492/1476420669', 'screen_name': 'feedspotblog', 'followers_count': 603, 'profile_background_tile': False, 'profile_background_image_url': 'http://abs.twimg.com/images/themes/theme1/bg.png', 'follow_request_sent': False, 'geo_enabled': False, 'profile_link_color': '1DA1F2', 'profile_image_url': 'http://pbs.twimg.com/profile_images/759984800178565120/BN4EputE_normal.jpg', 'created_at': 'Tue May 28 14:46:28 +0000 2013', 'default_profile': True, 'has_extended_profile': False, 'location': 'United States', 'default_profile_image': False, 'time_zone': 'Pacific Time (US & Canada)', 'verified': False, 'id_str': '1464846492'}, profile_link_color='1DA1F2', profile_background_color='C0DEED', protected=False, description='Discover great blogs to read on @_feedspot https://t.co/7NHgrBZhlK', is_translation_enabled=False, is_translator=False, following=False, lang='en', listed_count=41, friends_count=62, profile_background_image_url_https='https://abs.twimg.com/images/themes/theme1/bg.png', profile_use_background_image=True, translator_type='none', profile_text_color='333333', statuses_count=14395, profile_banner_url='https://pbs.twimg.com/profile_banners/1464846492/1476420669', profile_sidebar_border_color='C0DEED', screen_name='feedspotblog', followers_count=603, profile_background_tile=False, default_profile=True, follow_request_sent=False, geo_enabled=False, url='https://t.co/MRdTi67qWm', profile_image_url='http://pbs.twimg.com/profile_images/759984800178565120/BN4EputE_normal.jpg', profile_background_image_url='http://abs.twimg.com/images/themes/theme1/bg.png', location='United States', has_extended_profile=False, contributors_enabled=False, default_profile_image=False, time_zone='Pacific Time (US & Canada)', verified=False, id_str='1464846492'), entities={'urls': [{'display_url': 'buff.ly/2kzGFo1', 'expanded_url': 'http://buff.ly/2kzGFo1', 'indices': [106, 129], 'url': 'https://t.co/h5o5fTSPAJ'}], 'symbols': [], 'hashtags': [], 'user_mentions': [{'name': 'datascience@berkeley', 'id_str': '1227698863', 'screen_name': 'BerkeleyData', 'id': 1227698863, 'indices': [9, 22]}, {'name': 'Feedspot', 'id_str': '718606183', 'screen_name': '_feedspot', 'id': 718606183, 'indices': [95, 105]}]}, geo=None, id_str='825030059530579970', author=User(profile_image_url_https='https://pbs.twimg.com/profile_images/759984800178565120/BN4EputE_normal.jpg', created_at=datetime.datetime(2013, 5, 28, 14, 46, 28), notifications=False, id=1464846492, entities={'description': {'urls': [{'display_url': 'Feedspot.com', 'expanded_url': 'http://Feedspot.com', 'indices': [43, 66], 'url': 'https://t.co/7NHgrBZhlK'}]}, 'url': {'urls': [{'display_url': 'feedspot.com', 'expanded_url': 'http://www.feedspot.com/', 'indices': [0, 23], 'url': 'https://t.co/MRdTi67qWm'}]}}, favourites_count=1293, utc_offset=-28800, profile_sidebar_fill_color='DDEEF6', name='Feedspot Blog', _json={'profile_image_url_https': 'https://pbs.twimg.com/profile_images/759984800178565120/BN4EputE_normal.jpg', 'id': 1464846492, 'listed_count': 41, 'friends_count': 62, 'following': False, 'url': 'https://t.co/MRdTi67qWm', 'profile_sidebar_fill_color': 'DDEEF6', 'name': 'Feedspot Blog', 'utc_offset': -28800, 'notifications': False, 'profile_background_color': 'C0DEED', 'protected': False, 'description': 'Discover great blogs to read on @_feedspot https://t.co/7NHgrBZhlK', 'is_translation_enabled': False, 'is_translator': False, 'contributors_enabled': False, 'lang': 'en', 'profile_sidebar_border_color': 'C0DEED', 'profile_use_background_image': True, 'profile_background_image_url_https': 'https://abs.twimg.com/images/themes/theme1/bg.png', 'entities': {'description': {'urls': [{'display_url': 'Feedspot.com', 'expanded_url': 'http://Feedspot.com', 'indices': [43, 66], 'url': 'https://t.co/7NHgrBZhlK'}]}, 'url': {'urls': [{'display_url': 'feedspot.com', 'expanded_url': 'http://www.feedspot.com/', 'indices': [0, 23], 'url': 'https://t.co/MRdTi67qWm'}]}}, 'translator_type': 'none', 'profile_text_color': '333333', 'favourites_count': 1293, 'statuses_count': 14395, 'profile_banner_url': 'https://pbs.twimg.com/profile_banners/1464846492/1476420669', 'screen_name': 'feedspotblog', 'followers_count': 603, 'profile_background_tile': False, 'profile_background_image_url': 'http://abs.twimg.com/images/themes/theme1/bg.png', 'follow_request_sent': False, 'geo_enabled': False, 'profile_link_color': '1DA1F2', 'profile_image_url': 'http://pbs.twimg.com/profile_images/759984800178565120/BN4EputE_normal.jpg', 'created_at': 'Tue May 28 14:46:28 +0000 2013', 'default_profile': True, 'has_extended_profile': False, 'location': 'United States', 'default_profile_image': False, 'time_zone': 'Pacific Time (US & Canada)', 'verified': False, 'id_str': '1464846492'}, profile_link_color='1DA1F2', profile_background_color='C0DEED', protected=False, description='Discover great blogs to read on @_feedspot https://t.co/7NHgrBZhlK', is_translation_enabled=False, is_translator=False, following=False, lang='en', listed_count=41, friends_count=62, profile_background_image_url_https='https://abs.twimg.com/images/themes/theme1/bg.png', profile_use_background_image=True, translator_type='none', profile_text_color='333333', statuses_count=14395, profile_banner_url='https://pbs.twimg.com/profile_banners/1464846492/1476420669', profile_sidebar_border_color='C0DEED', screen_name='feedspotblog', followers_count=603, profile_background_tile=False, default_profile=True, follow_request_sent=False, geo_enabled=False, url='https://t.co/MRdTi67qWm', profile_image_url='http://pbs.twimg.com/profile_images/759984800178565120/BN4EputE_normal.jpg', profile_background_image_url='http://abs.twimg.com/images/themes/theme1/bg.png', location='United States', has_extended_profile=False, contributors_enabled=False, default_profile_image=False, time_zone='Pacific Time (US & Canada)', verified=False, id_str='1464846492'), _json={'is_quote_status': False, 'in_reply_to_status_id_str': None, 'retweet_count': 3, 'in_reply_to_user_id_str': None, 'user': {'profile_image_url_https': 'https://pbs.twimg.com/profile_images/759984800178565120/BN4EputE_normal.jpg', 'id': 1464846492, 'listed_count': 41, 'friends_count': 62, 'following': False, 'url': 'https://t.co/MRdTi67qWm', 'profile_sidebar_fill_color': 'DDEEF6', 'name': 'Feedspot Blog', 'utc_offset': -28800, 'notifications': False, 'profile_background_color': 'C0DEED', 'protected': False, 'description': 'Discover great blogs to read on @_feedspot https://t.co/7NHgrBZhlK', 'is_translation_enabled': False, 'is_translator': False, 'contributors_enabled': False, 'lang': 'en', 'profile_sidebar_border_color': 'C0DEED', 'profile_use_background_image': True, 'profile_background_image_url_https': 'https://abs.twimg.com/images/themes/theme1/bg.png', 'entities': {'description': {'urls': [{'display_url': 'Feedspot.com', 'expanded_url': 'http://Feedspot.com', 'indices': [43, 66], 'url': 'https://t.co/7NHgrBZhlK'}]}, 'url': {'urls': [{'display_url': 'feedspot.com', 'expanded_url': 'http://www.feedspot.com/', 'indices': [0, 23], 'url': 'https://t.co/MRdTi67qWm'}]}}, 'translator_type': 'none', 'profile_text_color': '333333', 'favourites_count': 1293, 'statuses_count': 14395, 'profile_banner_url': 'https://pbs.twimg.com/profile_banners/1464846492/1476420669', 'screen_name': 'feedspotblog', 'followers_count': 603, 'profile_background_tile': False, 'profile_background_image_url': 'http://abs.twimg.com/images/themes/theme1/bg.png', 'follow_request_sent': False, 'geo_enabled': False, 'profile_link_color': '1DA1F2', 'profile_image_url': 'http://pbs.twimg.com/profile_images/759984800178565120/BN4EputE_normal.jpg', 'created_at': 'Tue May 28 14:46:28 +0000 2013', 'default_profile': True, 'has_extended_profile': False, 'location': 'United States', 'default_profile_image': False, 'time_zone': 'Pacific Time (US & Canada)', 'verified': False, 'id_str': '1464846492'}, 'entities': {'urls': [{'display_url': 'buff.ly/2kzGFo1', 'expanded_url': 'http://buff.ly/2kzGFo1', 'indices': [106, 129], 'url': 'https://t.co/h5o5fTSPAJ'}], 'symbols': [], 'hashtags': [], 'user_mentions': [{'name': 'datascience@berkeley', 'id_str': '1227698863', 'screen_name': 'BerkeleyData', 'id': 1227698863, 'indices': [9, 22]}, {'name': 'Feedspot', 'id_str': '718606183', 'screen_name': '_feedspot', 'id': 718606183, 'indices': [95, 105]}]}, 'geo': None, 'id_str': '825030059530579970', 'coordinates': None, 'text': 'Congrats @BerkeleyData Your blog is selected as one of the Top 75 Data Science Blogs on web by @_feedspot https://t.co/h5o5fTSPAJ', 'lang': 'en', 'retweeted': False, 'id': 825030059530579970, 'in_reply_to_status_id': None, 'favorited': False, 'contributors': None, 'favorite_count': 1, 'truncated': False, 'source': '<a href=\"http://bufferapp.com\" rel=\"nofollow\">Buffer</a>', 'in_reply_to_user_id': None, 'place': None, 'possibly_sensitive': False, 'created_at': 'Fri Jan 27 17:17:49 +0000 2017', 'in_reply_to_screen_name': None}, coordinates=None, text='Congrats @BerkeleyData Your blog is selected as one of the Top 75 Data Science Blogs on web by @_feedspot https://t.co/h5o5fTSPAJ', source_url='http://bufferapp.com', lang='en', retweeted=False, id=825030059530579970, in_reply_to_status_id=None, source='Buffer', contributors=None, favorite_count=1, truncated=False, favorited=False, in_reply_to_user_id=None, place=None, possibly_sensitive=False, created_at=datetime.datetime(2017, 1, 27, 17, 17, 49), in_reply_to_screen_name=None), _json={'is_quote_status': False, 'in_reply_to_status_id_str': None, 'retweet_count': 3, 'in_reply_to_user_id_str': None, 'user': {'profile_image_url_https': 'https://pbs.twimg.com/profile_images/378800000146514422/6d9a5af0a0abb83d4cfe2d0ab2067ecb_normal.jpeg', 'id': 1227698863, 'listed_count': 437, 'friends_count': 403, 'following': False, 'url': 'http://t.co/S79Ul3oCaa', 'profile_sidebar_fill_color': 'DDEEF6', 'name': 'datascience@berkeley', 'utc_offset': -18000, 'notifications': False, 'profile_background_color': 'CCCCCC', 'protected': False, 'description': 'An online Master of Information and Data Science (MIDS) degree from the UC Berkeley School of Information. Learn more at: http://t.co/zf6gfBWovQ', 'is_translation_enabled': False, 'is_translator': False, 'contributors_enabled': False, 'lang': 'en', 'profile_sidebar_border_color': 'FFFFFF', 'profile_use_background_image': True, 'profile_background_image_url_https': 'https://pbs.twimg.com/profile_background_images/378800000096571211/5f9ba86a5d2b87c2c48544133c25b092.jpeg', 'entities': {'description': {'urls': [{'display_url': 'bit.ly/tBerkeleyData', 'expanded_url': 'http://bit.ly/tBerkeleyData', 'indices': [122, 144], 'url': 'http://t.co/zf6gfBWovQ'}]}, 'url': {'urls': [{'display_url': 'datascience.berkeley.edu', 'expanded_url': 'http://datascience.berkeley.edu', 'indices': [0, 22], 'url': 'http://t.co/S79Ul3oCaa'}]}}, 'translator_type': 'none', 'profile_text_color': '333333', 'favourites_count': 41, 'statuses_count': 2150, 'profile_banner_url': 'https://pbs.twimg.com/profile_banners/1227698863/1405953823', 'screen_name': 'BerkeleyData', 'followers_count': 9091, 'profile_background_tile': False, 'profile_background_image_url': 'http://pbs.twimg.com/profile_background_images/378800000096571211/5f9ba86a5d2b87c2c48544133c25b092.jpeg', 'follow_request_sent': False, 'geo_enabled': False, 'profile_link_color': '5173B6', 'profile_image_url': 'http://pbs.twimg.com/profile_images/378800000146514422/6d9a5af0a0abb83d4cfe2d0ab2067ecb_normal.jpeg', 'created_at': 'Thu Feb 28 14:37:26 +0000 2013', 'default_profile': False, 'has_extended_profile': False, 'location': 'Berkeley, CA', 'default_profile_image': False, 'time_zone': 'Eastern Time (US & Canada)', 'verified': False, 'id_str': '1227698863'}, 'entities': {'urls': [], 'symbols': [], 'hashtags': [], 'user_mentions': [{'name': 'Feedspot Blog', 'id_str': '1464846492', 'screen_name': 'feedspotblog', 'id': 1464846492, 'indices': [3, 16]}, {'name': 'datascience@berkeley', 'id_str': '1227698863', 'screen_name': 'BerkeleyData', 'id': 1227698863, 'indices': [27, 40]}, {'name': 'Feedspot', 'id_str': '718606183', 'screen_name': '_feedspot', 'id': 718606183, 'indices': [113, 123]}]}, 'geo': None, 'id_str': '825030144603480065', 'retweeted_status': {'is_quote_status': False, 'in_reply_to_status_id_str': None, 'retweet_count': 3, 'in_reply_to_user_id_str': None, 'user': {'profile_image_url_https': 'https://pbs.twimg.com/profile_images/759984800178565120/BN4EputE_normal.jpg', 'id': 1464846492, 'listed_count': 41, 'friends_count': 62, 'following': False, 'url': 'https://t.co/MRdTi67qWm', 'profile_sidebar_fill_color': 'DDEEF6', 'name': 'Feedspot Blog', 'utc_offset': -28800, 'notifications': False, 'profile_background_color': 'C0DEED', 'protected': False, 'description': 'Discover great blogs to read on @_feedspot https://t.co/7NHgrBZhlK', 'is_translation_enabled': False, 'is_translator': False, 'contributors_enabled': False, 'lang': 'en', 'profile_sidebar_border_color': 'C0DEED', 'profile_use_background_image': True, 'profile_background_image_url_https': 'https://abs.twimg.com/images/themes/theme1/bg.png', 'entities': {'description': {'urls': [{'display_url': 'Feedspot.com', 'expanded_url': 'http://Feedspot.com', 'indices': [43, 66], 'url': 'https://t.co/7NHgrBZhlK'}]}, 'url': {'urls': [{'display_url': 'feedspot.com', 'expanded_url': 'http://www.feedspot.com/', 'indices': [0, 23], 'url': 'https://t.co/MRdTi67qWm'}]}}, 'translator_type': 'none', 'profile_text_color': '333333', 'favourites_count': 1293, 'statuses_count': 14395, 'profile_banner_url': 'https://pbs.twimg.com/profile_banners/1464846492/1476420669', 'screen_name': 'feedspotblog', 'followers_count': 603, 'profile_background_tile': False, 'profile_background_image_url': 'http://abs.twimg.com/images/themes/theme1/bg.png', 'follow_request_sent': False, 'geo_enabled': False, 'profile_link_color': '1DA1F2', 'profile_image_url': 'http://pbs.twimg.com/profile_images/759984800178565120/BN4EputE_normal.jpg', 'created_at': 'Tue May 28 14:46:28 +0000 2013', 'default_profile': True, 'has_extended_profile': False, 'location': 'United States', 'default_profile_image': False, 'time_zone': 'Pacific Time (US & Canada)', 'verified': False, 'id_str': '1464846492'}, 'entities': {'urls': [{'display_url': 'buff.ly/2kzGFo1', 'expanded_url': 'http://buff.ly/2kzGFo1', 'indices': [106, 129], 'url': 'https://t.co/h5o5fTSPAJ'}], 'symbols': [], 'hashtags': [], 'user_mentions': [{'name': 'datascience@berkeley', 'id_str': '1227698863', 'screen_name': 'BerkeleyData', 'id': 1227698863, 'indices': [9, 22]}, {'name': 'Feedspot', 'id_str': '718606183', 'screen_name': '_feedspot', 'id': 718606183, 'indices': [95, 105]}]}, 'geo': None, 'id_str': '825030059530579970', 'coordinates': None, 'text': 'Congrats @BerkeleyData Your blog is selected as one of the Top 75 Data Science Blogs on web by @_feedspot https://t.co/h5o5fTSPAJ', 'lang': 'en', 'retweeted': False, 'id': 825030059530579970, 'in_reply_to_status_id': None, 'favorited': False, 'contributors': None, 'favorite_count': 1, 'truncated': False, 'source': '<a href=\"http://bufferapp.com\" rel=\"nofollow\">Buffer</a>', 'in_reply_to_user_id': None, 'place': None, 'possibly_sensitive': False, 'created_at': 'Fri Jan 27 17:17:49 +0000 2017', 'in_reply_to_screen_name': None}, 'coordinates': None, 'text': 'RT @feedspotblog: Congrats @BerkeleyData Your blog is selected as one of the Top 75 Data Science Blogs on web by @_feedspot https://t.co/h5…', 'lang': 'en', 'retweeted': False, 'id': 825030144603480065, 'in_reply_to_status_id': None, 'favorited': False, 'contributors': None, 'favorite_count': 0, 'truncated': False, 'source': '<a href=\"http://twitter.com\" rel=\"nofollow\">Twitter Web Client</a>', 'in_reply_to_user_id': None, 'place': None, 'created_at': 'Fri Jan 27 17:18:09 +0000 2017', 'in_reply_to_screen_name': None}, coordinates=None, text='RT @feedspotblog: Congrats @BerkeleyData Your blog is selected as one of the Top 75 Data Science Blogs on web by @_feedspot https://t.co/h5…', source_url='http://twitter.com', lang='en', retweeted=False, id=825030144603480065, in_reply_to_status_id=None, source='Twitter Web Client', contributors=None, favorite_count=0, truncated=False, favorited=False, in_reply_to_user_id=None, place=None, created_at=datetime.datetime(2017, 1, 27, 17, 18, 9), in_reply_to_screen_name=None)"
      ]
     },
     "execution_count": 3,
     "metadata": {},
     "output_type": "execute_result"
    }
   ],
   "source": [
    "# Looking at one tweet object, which has type Status:\n",
    "example_tweets[0]\n",
    "# You can try something like this:\n",
    "#   import pprint; pprint.pprint(vars(example_tweets[0]))\n",
    "# ...to get a more easily-readable view."
   ]
  },
  {
   "cell_type": "code",
   "execution_count": 4,
   "metadata": {
    "collapsed": false
   },
   "outputs": [
    {
     "name": "stdout",
     "output_type": "stream",
     "text": [
      "{'_json': {'contributors': None,\n",
      "           'coordinates': None,\n",
      "           'created_at': 'Fri Jan 27 17:18:09 +0000 2017',\n",
      "           'entities': {'hashtags': [],\n",
      "                        'symbols': [],\n",
      "                        'urls': [],\n",
      "                        'user_mentions': [{'id': 1464846492,\n",
      "                                           'id_str': '1464846492',\n",
      "                                           'indices': [3, 16],\n",
      "                                           'name': 'Feedspot Blog',\n",
      "                                           'screen_name': 'feedspotblog'},\n",
      "                                          {'id': 1227698863,\n",
      "                                           'id_str': '1227698863',\n",
      "                                           'indices': [27, 40],\n",
      "                                           'name': 'datascience@berkeley',\n",
      "                                           'screen_name': 'BerkeleyData'},\n",
      "                                          {'id': 718606183,\n",
      "                                           'id_str': '718606183',\n",
      "                                           'indices': [113, 123],\n",
      "                                           'name': 'Feedspot',\n",
      "                                           'screen_name': '_feedspot'}]},\n",
      "           'favorite_count': 0,\n",
      "           'favorited': False,\n",
      "           'geo': None,\n",
      "           'id': 825030144603480065,\n",
      "           'id_str': '825030144603480065',\n",
      "           'in_reply_to_screen_name': None,\n",
      "           'in_reply_to_status_id': None,\n",
      "           'in_reply_to_status_id_str': None,\n",
      "           'in_reply_to_user_id': None,\n",
      "           'in_reply_to_user_id_str': None,\n",
      "           'is_quote_status': False,\n",
      "           'lang': 'en',\n",
      "           'place': None,\n",
      "           'retweet_count': 3,\n",
      "           'retweeted': False,\n",
      "           'retweeted_status': {'contributors': None,\n",
      "                                'coordinates': None,\n",
      "                                'created_at': 'Fri Jan 27 17:17:49 +0000 2017',\n",
      "                                'entities': {'hashtags': [],\n",
      "                                             'symbols': [],\n",
      "                                             'urls': [{'display_url': 'buff.ly/2kzGFo1',\n",
      "                                                       'expanded_url': 'http://buff.ly/2kzGFo1',\n",
      "                                                       'indices': [106, 129],\n",
      "                                                       'url': 'https://t.co/h5o5fTSPAJ'}],\n",
      "                                             'user_mentions': [{'id': 1227698863,\n",
      "                                                                'id_str': '1227698863',\n",
      "                                                                'indices': [9,\n",
      "                                                                            22],\n",
      "                                                                'name': 'datascience@berkeley',\n",
      "                                                                'screen_name': 'BerkeleyData'},\n",
      "                                                               {'id': 718606183,\n",
      "                                                                'id_str': '718606183',\n",
      "                                                                'indices': [95,\n",
      "                                                                            105],\n",
      "                                                                'name': 'Feedspot',\n",
      "                                                                'screen_name': '_feedspot'}]},\n",
      "                                'favorite_count': 1,\n",
      "                                'favorited': False,\n",
      "                                'geo': None,\n",
      "                                'id': 825030059530579970,\n",
      "                                'id_str': '825030059530579970',\n",
      "                                'in_reply_to_screen_name': None,\n",
      "                                'in_reply_to_status_id': None,\n",
      "                                'in_reply_to_status_id_str': None,\n",
      "                                'in_reply_to_user_id': None,\n",
      "                                'in_reply_to_user_id_str': None,\n",
      "                                'is_quote_status': False,\n",
      "                                'lang': 'en',\n",
      "                                'place': None,\n",
      "                                'possibly_sensitive': False,\n",
      "                                'retweet_count': 3,\n",
      "                                'retweeted': False,\n",
      "                                'source': '<a href=\"http://bufferapp.com\" '\n",
      "                                          'rel=\"nofollow\">Buffer</a>',\n",
      "                                'text': 'Congrats @BerkeleyData Your blog is '\n",
      "                                        'selected as one of the Top 75 Data '\n",
      "                                        'Science Blogs on web by @_feedspot '\n",
      "                                        'https://t.co/h5o5fTSPAJ',\n",
      "                                'truncated': False,\n",
      "                                'user': {'contributors_enabled': False,\n",
      "                                         'created_at': 'Tue May 28 14:46:28 '\n",
      "                                                       '+0000 2013',\n",
      "                                         'default_profile': True,\n",
      "                                         'default_profile_image': False,\n",
      "                                         'description': 'Discover great blogs '\n",
      "                                                        'to read on @_feedspot '\n",
      "                                                        'https://t.co/7NHgrBZhlK',\n",
      "                                         'entities': {'description': {'urls': [{'display_url': 'Feedspot.com',\n",
      "                                                                                'expanded_url': 'http://Feedspot.com',\n",
      "                                                                                'indices': [43,\n",
      "                                                                                            66],\n",
      "                                                                                'url': 'https://t.co/7NHgrBZhlK'}]},\n",
      "                                                      'url': {'urls': [{'display_url': 'feedspot.com',\n",
      "                                                                        'expanded_url': 'http://www.feedspot.com/',\n",
      "                                                                        'indices': [0,\n",
      "                                                                                    23],\n",
      "                                                                        'url': 'https://t.co/MRdTi67qWm'}]}},\n",
      "                                         'favourites_count': 1293,\n",
      "                                         'follow_request_sent': False,\n",
      "                                         'followers_count': 603,\n",
      "                                         'following': False,\n",
      "                                         'friends_count': 62,\n",
      "                                         'geo_enabled': False,\n",
      "                                         'has_extended_profile': False,\n",
      "                                         'id': 1464846492,\n",
      "                                         'id_str': '1464846492',\n",
      "                                         'is_translation_enabled': False,\n",
      "                                         'is_translator': False,\n",
      "                                         'lang': 'en',\n",
      "                                         'listed_count': 41,\n",
      "                                         'location': 'United States',\n",
      "                                         'name': 'Feedspot Blog',\n",
      "                                         'notifications': False,\n",
      "                                         'profile_background_color': 'C0DEED',\n",
      "                                         'profile_background_image_url': 'http://abs.twimg.com/images/themes/theme1/bg.png',\n",
      "                                         'profile_background_image_url_https': 'https://abs.twimg.com/images/themes/theme1/bg.png',\n",
      "                                         'profile_background_tile': False,\n",
      "                                         'profile_banner_url': 'https://pbs.twimg.com/profile_banners/1464846492/1476420669',\n",
      "                                         'profile_image_url': 'http://pbs.twimg.com/profile_images/759984800178565120/BN4EputE_normal.jpg',\n",
      "                                         'profile_image_url_https': 'https://pbs.twimg.com/profile_images/759984800178565120/BN4EputE_normal.jpg',\n",
      "                                         'profile_link_color': '1DA1F2',\n",
      "                                         'profile_sidebar_border_color': 'C0DEED',\n",
      "                                         'profile_sidebar_fill_color': 'DDEEF6',\n",
      "                                         'profile_text_color': '333333',\n",
      "                                         'profile_use_background_image': True,\n",
      "                                         'protected': False,\n",
      "                                         'screen_name': 'feedspotblog',\n",
      "                                         'statuses_count': 14395,\n",
      "                                         'time_zone': 'Pacific Time (US & '\n",
      "                                                      'Canada)',\n",
      "                                         'translator_type': 'none',\n",
      "                                         'url': 'https://t.co/MRdTi67qWm',\n",
      "                                         'utc_offset': -28800,\n",
      "                                         'verified': False}},\n",
      "           'source': '<a href=\"http://twitter.com\" rel=\"nofollow\">Twitter Web '\n",
      "                     'Client</a>',\n",
      "           'text': 'RT @feedspotblog: Congrats @BerkeleyData Your blog is '\n",
      "                   'selected as one of the Top 75 Data Science Blogs on web by '\n",
      "                   '@_feedspot https://t.co/h5…',\n",
      "           'truncated': False,\n",
      "           'user': {'contributors_enabled': False,\n",
      "                    'created_at': 'Thu Feb 28 14:37:26 +0000 2013',\n",
      "                    'default_profile': False,\n",
      "                    'default_profile_image': False,\n",
      "                    'description': 'An online Master of Information and Data '\n",
      "                                   'Science (MIDS) degree from the UC Berkeley '\n",
      "                                   'School of Information. Learn more at: '\n",
      "                                   'http://t.co/zf6gfBWovQ',\n",
      "                    'entities': {'description': {'urls': [{'display_url': 'bit.ly/tBerkeleyData',\n",
      "                                                           'expanded_url': 'http://bit.ly/tBerkeleyData',\n",
      "                                                           'indices': [122,\n",
      "                                                                       144],\n",
      "                                                           'url': 'http://t.co/zf6gfBWovQ'}]},\n",
      "                                 'url': {'urls': [{'display_url': 'datascience.berkeley.edu',\n",
      "                                                   'expanded_url': 'http://datascience.berkeley.edu',\n",
      "                                                   'indices': [0, 22],\n",
      "                                                   'url': 'http://t.co/S79Ul3oCaa'}]}},\n",
      "                    'favourites_count': 41,\n",
      "                    'follow_request_sent': False,\n",
      "                    'followers_count': 9091,\n",
      "                    'following': False,\n",
      "                    'friends_count': 403,\n",
      "                    'geo_enabled': False,\n",
      "                    'has_extended_profile': False,\n",
      "                    'id': 1227698863,\n",
      "                    'id_str': '1227698863',\n",
      "                    'is_translation_enabled': False,\n",
      "                    'is_translator': False,\n",
      "                    'lang': 'en',\n",
      "                    'listed_count': 437,\n",
      "                    'location': 'Berkeley, CA',\n",
      "                    'name': 'datascience@berkeley',\n",
      "                    'notifications': False,\n",
      "                    'profile_background_color': 'CCCCCC',\n",
      "                    'profile_background_image_url': 'http://pbs.twimg.com/profile_background_images/378800000096571211/5f9ba86a5d2b87c2c48544133c25b092.jpeg',\n",
      "                    'profile_background_image_url_https': 'https://pbs.twimg.com/profile_background_images/378800000096571211/5f9ba86a5d2b87c2c48544133c25b092.jpeg',\n",
      "                    'profile_background_tile': False,\n",
      "                    'profile_banner_url': 'https://pbs.twimg.com/profile_banners/1227698863/1405953823',\n",
      "                    'profile_image_url': 'http://pbs.twimg.com/profile_images/378800000146514422/6d9a5af0a0abb83d4cfe2d0ab2067ecb_normal.jpeg',\n",
      "                    'profile_image_url_https': 'https://pbs.twimg.com/profile_images/378800000146514422/6d9a5af0a0abb83d4cfe2d0ab2067ecb_normal.jpeg',\n",
      "                    'profile_link_color': '5173B6',\n",
      "                    'profile_sidebar_border_color': 'FFFFFF',\n",
      "                    'profile_sidebar_fill_color': 'DDEEF6',\n",
      "                    'profile_text_color': '333333',\n",
      "                    'profile_use_background_image': True,\n",
      "                    'protected': False,\n",
      "                    'screen_name': 'BerkeleyData',\n",
      "                    'statuses_count': 2150,\n",
      "                    'time_zone': 'Eastern Time (US & Canada)',\n",
      "                    'translator_type': 'none',\n",
      "                    'url': 'http://t.co/S79Ul3oCaa',\n",
      "                    'utc_offset': -18000,\n",
      "                    'verified': False}},\n",
      " 'author': User(profile_image_url_https='https://pbs.twimg.com/profile_images/378800000146514422/6d9a5af0a0abb83d4cfe2d0ab2067ecb_normal.jpeg', created_at=datetime.datetime(2013, 2, 28, 14, 37, 26), notifications=False, id=1227698863, entities={'description': {'urls': [{'display_url': 'bit.ly/tBerkeleyData', 'expanded_url': 'http://bit.ly/tBerkeleyData', 'indices': [122, 144], 'url': 'http://t.co/zf6gfBWovQ'}]}, 'url': {'urls': [{'display_url': 'datascience.berkeley.edu', 'expanded_url': 'http://datascience.berkeley.edu', 'indices': [0, 22], 'url': 'http://t.co/S79Ul3oCaa'}]}}, favourites_count=41, utc_offset=-18000, profile_sidebar_fill_color='DDEEF6', name='datascience@berkeley', _json={'profile_image_url_https': 'https://pbs.twimg.com/profile_images/378800000146514422/6d9a5af0a0abb83d4cfe2d0ab2067ecb_normal.jpeg', 'id': 1227698863, 'listed_count': 437, 'friends_count': 403, 'following': False, 'url': 'http://t.co/S79Ul3oCaa', 'profile_sidebar_fill_color': 'DDEEF6', 'name': 'datascience@berkeley', 'utc_offset': -18000, 'notifications': False, 'profile_background_color': 'CCCCCC', 'protected': False, 'description': 'An online Master of Information and Data Science (MIDS) degree from the UC Berkeley School of Information. Learn more at: http://t.co/zf6gfBWovQ', 'is_translation_enabled': False, 'is_translator': False, 'contributors_enabled': False, 'lang': 'en', 'profile_sidebar_border_color': 'FFFFFF', 'profile_use_background_image': True, 'profile_background_image_url_https': 'https://pbs.twimg.com/profile_background_images/378800000096571211/5f9ba86a5d2b87c2c48544133c25b092.jpeg', 'entities': {'description': {'urls': [{'display_url': 'bit.ly/tBerkeleyData', 'expanded_url': 'http://bit.ly/tBerkeleyData', 'indices': [122, 144], 'url': 'http://t.co/zf6gfBWovQ'}]}, 'url': {'urls': [{'display_url': 'datascience.berkeley.edu', 'expanded_url': 'http://datascience.berkeley.edu', 'indices': [0, 22], 'url': 'http://t.co/S79Ul3oCaa'}]}}, 'translator_type': 'none', 'profile_text_color': '333333', 'favourites_count': 41, 'statuses_count': 2150, 'profile_banner_url': 'https://pbs.twimg.com/profile_banners/1227698863/1405953823', 'screen_name': 'BerkeleyData', 'followers_count': 9091, 'profile_background_tile': False, 'profile_background_image_url': 'http://pbs.twimg.com/profile_background_images/378800000096571211/5f9ba86a5d2b87c2c48544133c25b092.jpeg', 'follow_request_sent': False, 'geo_enabled': False, 'profile_link_color': '5173B6', 'profile_image_url': 'http://pbs.twimg.com/profile_images/378800000146514422/6d9a5af0a0abb83d4cfe2d0ab2067ecb_normal.jpeg', 'created_at': 'Thu Feb 28 14:37:26 +0000 2013', 'default_profile': False, 'has_extended_profile': False, 'location': 'Berkeley, CA', 'default_profile_image': False, 'time_zone': 'Eastern Time (US & Canada)', 'verified': False, 'id_str': '1227698863'}, profile_link_color='5173B6', profile_background_color='CCCCCC', protected=False, description='An online Master of Information and Data Science (MIDS) degree from the UC Berkeley School of Information. Learn more at: http://t.co/zf6gfBWovQ', is_translation_enabled=False, is_translator=False, following=False, lang='en', listed_count=437, friends_count=403, profile_background_image_url_https='https://pbs.twimg.com/profile_background_images/378800000096571211/5f9ba86a5d2b87c2c48544133c25b092.jpeg', profile_use_background_image=True, translator_type='none', profile_text_color='333333', statuses_count=2150, profile_banner_url='https://pbs.twimg.com/profile_banners/1227698863/1405953823', profile_sidebar_border_color='FFFFFF', screen_name='BerkeleyData', followers_count=9091, profile_background_tile=False, default_profile=False, follow_request_sent=False, geo_enabled=False, url='http://t.co/S79Ul3oCaa', profile_image_url='http://pbs.twimg.com/profile_images/378800000146514422/6d9a5af0a0abb83d4cfe2d0ab2067ecb_normal.jpeg', profile_background_image_url='http://pbs.twimg.com/profile_background_images/378800000096571211/5f9ba86a5d2b87c2c48544133c25b092.jpeg', location='Berkeley, CA', has_extended_profile=False, contributors_enabled=False, default_profile_image=False, time_zone='Eastern Time (US & Canada)', verified=False, id_str='1227698863'),\n",
      " 'contributors': None,\n",
      " 'coordinates': None,\n",
      " 'created_at': datetime.datetime(2017, 1, 27, 17, 18, 9),\n",
      " 'entities': {'hashtags': [],\n",
      "              'symbols': [],\n",
      "              'urls': [],\n",
      "              'user_mentions': [{'id': 1464846492,\n",
      "                                 'id_str': '1464846492',\n",
      "                                 'indices': [3, 16],\n",
      "                                 'name': 'Feedspot Blog',\n",
      "                                 'screen_name': 'feedspotblog'},\n",
      "                                {'id': 1227698863,\n",
      "                                 'id_str': '1227698863',\n",
      "                                 'indices': [27, 40],\n",
      "                                 'name': 'datascience@berkeley',\n",
      "                                 'screen_name': 'BerkeleyData'},\n",
      "                                {'id': 718606183,\n",
      "                                 'id_str': '718606183',\n",
      "                                 'indices': [113, 123],\n",
      "                                 'name': 'Feedspot',\n",
      "                                 'screen_name': '_feedspot'}]},\n",
      " 'favorite_count': 0,\n",
      " 'favorited': False,\n",
      " 'geo': None,\n",
      " 'id': 825030144603480065,\n",
      " 'id_str': '825030144603480065',\n",
      " 'in_reply_to_screen_name': None,\n",
      " 'in_reply_to_status_id': None,\n",
      " 'in_reply_to_status_id_str': None,\n",
      " 'in_reply_to_user_id': None,\n",
      " 'in_reply_to_user_id_str': None,\n",
      " 'is_quote_status': False,\n",
      " 'lang': 'en',\n",
      " 'place': None,\n",
      " 'retweet_count': 3,\n",
      " 'retweeted': False,\n",
      " 'retweeted_status': Status(is_quote_status=False, in_reply_to_status_id_str=None, retweet_count=3, in_reply_to_user_id_str=None, user=User(profile_image_url_https='https://pbs.twimg.com/profile_images/759984800178565120/BN4EputE_normal.jpg', created_at=datetime.datetime(2013, 5, 28, 14, 46, 28), notifications=False, id=1464846492, entities={'description': {'urls': [{'display_url': 'Feedspot.com', 'expanded_url': 'http://Feedspot.com', 'indices': [43, 66], 'url': 'https://t.co/7NHgrBZhlK'}]}, 'url': {'urls': [{'display_url': 'feedspot.com', 'expanded_url': 'http://www.feedspot.com/', 'indices': [0, 23], 'url': 'https://t.co/MRdTi67qWm'}]}}, favourites_count=1293, utc_offset=-28800, profile_sidebar_fill_color='DDEEF6', name='Feedspot Blog', _json={'profile_image_url_https': 'https://pbs.twimg.com/profile_images/759984800178565120/BN4EputE_normal.jpg', 'id': 1464846492, 'listed_count': 41, 'friends_count': 62, 'following': False, 'url': 'https://t.co/MRdTi67qWm', 'profile_sidebar_fill_color': 'DDEEF6', 'name': 'Feedspot Blog', 'utc_offset': -28800, 'notifications': False, 'profile_background_color': 'C0DEED', 'protected': False, 'description': 'Discover great blogs to read on @_feedspot https://t.co/7NHgrBZhlK', 'is_translation_enabled': False, 'is_translator': False, 'contributors_enabled': False, 'lang': 'en', 'profile_sidebar_border_color': 'C0DEED', 'profile_use_background_image': True, 'profile_background_image_url_https': 'https://abs.twimg.com/images/themes/theme1/bg.png', 'entities': {'description': {'urls': [{'display_url': 'Feedspot.com', 'expanded_url': 'http://Feedspot.com', 'indices': [43, 66], 'url': 'https://t.co/7NHgrBZhlK'}]}, 'url': {'urls': [{'display_url': 'feedspot.com', 'expanded_url': 'http://www.feedspot.com/', 'indices': [0, 23], 'url': 'https://t.co/MRdTi67qWm'}]}}, 'translator_type': 'none', 'profile_text_color': '333333', 'favourites_count': 1293, 'statuses_count': 14395, 'profile_banner_url': 'https://pbs.twimg.com/profile_banners/1464846492/1476420669', 'screen_name': 'feedspotblog', 'followers_count': 603, 'profile_background_tile': False, 'profile_background_image_url': 'http://abs.twimg.com/images/themes/theme1/bg.png', 'follow_request_sent': False, 'geo_enabled': False, 'profile_link_color': '1DA1F2', 'profile_image_url': 'http://pbs.twimg.com/profile_images/759984800178565120/BN4EputE_normal.jpg', 'created_at': 'Tue May 28 14:46:28 +0000 2013', 'default_profile': True, 'has_extended_profile': False, 'location': 'United States', 'default_profile_image': False, 'time_zone': 'Pacific Time (US & Canada)', 'verified': False, 'id_str': '1464846492'}, profile_link_color='1DA1F2', profile_background_color='C0DEED', protected=False, description='Discover great blogs to read on @_feedspot https://t.co/7NHgrBZhlK', is_translation_enabled=False, is_translator=False, following=False, lang='en', listed_count=41, friends_count=62, profile_background_image_url_https='https://abs.twimg.com/images/themes/theme1/bg.png', profile_use_background_image=True, translator_type='none', profile_text_color='333333', statuses_count=14395, profile_banner_url='https://pbs.twimg.com/profile_banners/1464846492/1476420669', profile_sidebar_border_color='C0DEED', screen_name='feedspotblog', followers_count=603, profile_background_tile=False, default_profile=True, follow_request_sent=False, geo_enabled=False, url='https://t.co/MRdTi67qWm', profile_image_url='http://pbs.twimg.com/profile_images/759984800178565120/BN4EputE_normal.jpg', profile_background_image_url='http://abs.twimg.com/images/themes/theme1/bg.png', location='United States', has_extended_profile=False, contributors_enabled=False, default_profile_image=False, time_zone='Pacific Time (US & Canada)', verified=False, id_str='1464846492'), entities={'urls': [{'display_url': 'buff.ly/2kzGFo1', 'expanded_url': 'http://buff.ly/2kzGFo1', 'indices': [106, 129], 'url': 'https://t.co/h5o5fTSPAJ'}], 'symbols': [], 'hashtags': [], 'user_mentions': [{'name': 'datascience@berkeley', 'id_str': '1227698863', 'screen_name': 'BerkeleyData', 'id': 1227698863, 'indices': [9, 22]}, {'name': 'Feedspot', 'id_str': '718606183', 'screen_name': '_feedspot', 'id': 718606183, 'indices': [95, 105]}]}, geo=None, id_str='825030059530579970', author=User(profile_image_url_https='https://pbs.twimg.com/profile_images/759984800178565120/BN4EputE_normal.jpg', created_at=datetime.datetime(2013, 5, 28, 14, 46, 28), notifications=False, id=1464846492, entities={'description': {'urls': [{'display_url': 'Feedspot.com', 'expanded_url': 'http://Feedspot.com', 'indices': [43, 66], 'url': 'https://t.co/7NHgrBZhlK'}]}, 'url': {'urls': [{'display_url': 'feedspot.com', 'expanded_url': 'http://www.feedspot.com/', 'indices': [0, 23], 'url': 'https://t.co/MRdTi67qWm'}]}}, favourites_count=1293, utc_offset=-28800, profile_sidebar_fill_color='DDEEF6', name='Feedspot Blog', _json={'profile_image_url_https': 'https://pbs.twimg.com/profile_images/759984800178565120/BN4EputE_normal.jpg', 'id': 1464846492, 'listed_count': 41, 'friends_count': 62, 'following': False, 'url': 'https://t.co/MRdTi67qWm', 'profile_sidebar_fill_color': 'DDEEF6', 'name': 'Feedspot Blog', 'utc_offset': -28800, 'notifications': False, 'profile_background_color': 'C0DEED', 'protected': False, 'description': 'Discover great blogs to read on @_feedspot https://t.co/7NHgrBZhlK', 'is_translation_enabled': False, 'is_translator': False, 'contributors_enabled': False, 'lang': 'en', 'profile_sidebar_border_color': 'C0DEED', 'profile_use_background_image': True, 'profile_background_image_url_https': 'https://abs.twimg.com/images/themes/theme1/bg.png', 'entities': {'description': {'urls': [{'display_url': 'Feedspot.com', 'expanded_url': 'http://Feedspot.com', 'indices': [43, 66], 'url': 'https://t.co/7NHgrBZhlK'}]}, 'url': {'urls': [{'display_url': 'feedspot.com', 'expanded_url': 'http://www.feedspot.com/', 'indices': [0, 23], 'url': 'https://t.co/MRdTi67qWm'}]}}, 'translator_type': 'none', 'profile_text_color': '333333', 'favourites_count': 1293, 'statuses_count': 14395, 'profile_banner_url': 'https://pbs.twimg.com/profile_banners/1464846492/1476420669', 'screen_name': 'feedspotblog', 'followers_count': 603, 'profile_background_tile': False, 'profile_background_image_url': 'http://abs.twimg.com/images/themes/theme1/bg.png', 'follow_request_sent': False, 'geo_enabled': False, 'profile_link_color': '1DA1F2', 'profile_image_url': 'http://pbs.twimg.com/profile_images/759984800178565120/BN4EputE_normal.jpg', 'created_at': 'Tue May 28 14:46:28 +0000 2013', 'default_profile': True, 'has_extended_profile': False, 'location': 'United States', 'default_profile_image': False, 'time_zone': 'Pacific Time (US & Canada)', 'verified': False, 'id_str': '1464846492'}, profile_link_color='1DA1F2', profile_background_color='C0DEED', protected=False, description='Discover great blogs to read on @_feedspot https://t.co/7NHgrBZhlK', is_translation_enabled=False, is_translator=False, following=False, lang='en', listed_count=41, friends_count=62, profile_background_image_url_https='https://abs.twimg.com/images/themes/theme1/bg.png', profile_use_background_image=True, translator_type='none', profile_text_color='333333', statuses_count=14395, profile_banner_url='https://pbs.twimg.com/profile_banners/1464846492/1476420669', profile_sidebar_border_color='C0DEED', screen_name='feedspotblog', followers_count=603, profile_background_tile=False, default_profile=True, follow_request_sent=False, geo_enabled=False, url='https://t.co/MRdTi67qWm', profile_image_url='http://pbs.twimg.com/profile_images/759984800178565120/BN4EputE_normal.jpg', profile_background_image_url='http://abs.twimg.com/images/themes/theme1/bg.png', location='United States', has_extended_profile=False, contributors_enabled=False, default_profile_image=False, time_zone='Pacific Time (US & Canada)', verified=False, id_str='1464846492'), _json={'is_quote_status': False, 'in_reply_to_status_id_str': None, 'retweet_count': 3, 'in_reply_to_user_id_str': None, 'user': {'profile_image_url_https': 'https://pbs.twimg.com/profile_images/759984800178565120/BN4EputE_normal.jpg', 'id': 1464846492, 'listed_count': 41, 'friends_count': 62, 'following': False, 'url': 'https://t.co/MRdTi67qWm', 'profile_sidebar_fill_color': 'DDEEF6', 'name': 'Feedspot Blog', 'utc_offset': -28800, 'notifications': False, 'profile_background_color': 'C0DEED', 'protected': False, 'description': 'Discover great blogs to read on @_feedspot https://t.co/7NHgrBZhlK', 'is_translation_enabled': False, 'is_translator': False, 'contributors_enabled': False, 'lang': 'en', 'profile_sidebar_border_color': 'C0DEED', 'profile_use_background_image': True, 'profile_background_image_url_https': 'https://abs.twimg.com/images/themes/theme1/bg.png', 'entities': {'description': {'urls': [{'display_url': 'Feedspot.com', 'expanded_url': 'http://Feedspot.com', 'indices': [43, 66], 'url': 'https://t.co/7NHgrBZhlK'}]}, 'url': {'urls': [{'display_url': 'feedspot.com', 'expanded_url': 'http://www.feedspot.com/', 'indices': [0, 23], 'url': 'https://t.co/MRdTi67qWm'}]}}, 'translator_type': 'none', 'profile_text_color': '333333', 'favourites_count': 1293, 'statuses_count': 14395, 'profile_banner_url': 'https://pbs.twimg.com/profile_banners/1464846492/1476420669', 'screen_name': 'feedspotblog', 'followers_count': 603, 'profile_background_tile': False, 'profile_background_image_url': 'http://abs.twimg.com/images/themes/theme1/bg.png', 'follow_request_sent': False, 'geo_enabled': False, 'profile_link_color': '1DA1F2', 'profile_image_url': 'http://pbs.twimg.com/profile_images/759984800178565120/BN4EputE_normal.jpg', 'created_at': 'Tue May 28 14:46:28 +0000 2013', 'default_profile': True, 'has_extended_profile': False, 'location': 'United States', 'default_profile_image': False, 'time_zone': 'Pacific Time (US & Canada)', 'verified': False, 'id_str': '1464846492'}, 'entities': {'urls': [{'display_url': 'buff.ly/2kzGFo1', 'expanded_url': 'http://buff.ly/2kzGFo1', 'indices': [106, 129], 'url': 'https://t.co/h5o5fTSPAJ'}], 'symbols': [], 'hashtags': [], 'user_mentions': [{'name': 'datascience@berkeley', 'id_str': '1227698863', 'screen_name': 'BerkeleyData', 'id': 1227698863, 'indices': [9, 22]}, {'name': 'Feedspot', 'id_str': '718606183', 'screen_name': '_feedspot', 'id': 718606183, 'indices': [95, 105]}]}, 'geo': None, 'id_str': '825030059530579970', 'coordinates': None, 'text': 'Congrats @BerkeleyData Your blog is selected as one of the Top 75 Data Science Blogs on web by @_feedspot https://t.co/h5o5fTSPAJ', 'lang': 'en', 'retweeted': False, 'id': 825030059530579970, 'in_reply_to_status_id': None, 'favorited': False, 'contributors': None, 'favorite_count': 1, 'truncated': False, 'source': '<a href=\"http://bufferapp.com\" rel=\"nofollow\">Buffer</a>', 'in_reply_to_user_id': None, 'place': None, 'possibly_sensitive': False, 'created_at': 'Fri Jan 27 17:17:49 +0000 2017', 'in_reply_to_screen_name': None}, coordinates=None, text='Congrats @BerkeleyData Your blog is selected as one of the Top 75 Data Science Blogs on web by @_feedspot https://t.co/h5o5fTSPAJ', source_url='http://bufferapp.com', lang='en', retweeted=False, id=825030059530579970, in_reply_to_status_id=None, source='Buffer', contributors=None, favorite_count=1, truncated=False, favorited=False, in_reply_to_user_id=None, place=None, possibly_sensitive=False, created_at=datetime.datetime(2017, 1, 27, 17, 17, 49), in_reply_to_screen_name=None),\n",
      " 'source': 'Twitter Web Client',\n",
      " 'source_url': 'http://twitter.com',\n",
      " 'text': 'RT @feedspotblog: Congrats @BerkeleyData Your blog is selected as '\n",
      "         'one of the Top 75 Data Science Blogs on web by @_feedspot '\n",
      "         'https://t.co/h5…',\n",
      " 'truncated': False,\n",
      " 'user': User(profile_image_url_https='https://pbs.twimg.com/profile_images/378800000146514422/6d9a5af0a0abb83d4cfe2d0ab2067ecb_normal.jpeg', created_at=datetime.datetime(2013, 2, 28, 14, 37, 26), notifications=False, id=1227698863, entities={'description': {'urls': [{'display_url': 'bit.ly/tBerkeleyData', 'expanded_url': 'http://bit.ly/tBerkeleyData', 'indices': [122, 144], 'url': 'http://t.co/zf6gfBWovQ'}]}, 'url': {'urls': [{'display_url': 'datascience.berkeley.edu', 'expanded_url': 'http://datascience.berkeley.edu', 'indices': [0, 22], 'url': 'http://t.co/S79Ul3oCaa'}]}}, favourites_count=41, utc_offset=-18000, profile_sidebar_fill_color='DDEEF6', name='datascience@berkeley', _json={'profile_image_url_https': 'https://pbs.twimg.com/profile_images/378800000146514422/6d9a5af0a0abb83d4cfe2d0ab2067ecb_normal.jpeg', 'id': 1227698863, 'listed_count': 437, 'friends_count': 403, 'following': False, 'url': 'http://t.co/S79Ul3oCaa', 'profile_sidebar_fill_color': 'DDEEF6', 'name': 'datascience@berkeley', 'utc_offset': -18000, 'notifications': False, 'profile_background_color': 'CCCCCC', 'protected': False, 'description': 'An online Master of Information and Data Science (MIDS) degree from the UC Berkeley School of Information. Learn more at: http://t.co/zf6gfBWovQ', 'is_translation_enabled': False, 'is_translator': False, 'contributors_enabled': False, 'lang': 'en', 'profile_sidebar_border_color': 'FFFFFF', 'profile_use_background_image': True, 'profile_background_image_url_https': 'https://pbs.twimg.com/profile_background_images/378800000096571211/5f9ba86a5d2b87c2c48544133c25b092.jpeg', 'entities': {'description': {'urls': [{'display_url': 'bit.ly/tBerkeleyData', 'expanded_url': 'http://bit.ly/tBerkeleyData', 'indices': [122, 144], 'url': 'http://t.co/zf6gfBWovQ'}]}, 'url': {'urls': [{'display_url': 'datascience.berkeley.edu', 'expanded_url': 'http://datascience.berkeley.edu', 'indices': [0, 22], 'url': 'http://t.co/S79Ul3oCaa'}]}}, 'translator_type': 'none', 'profile_text_color': '333333', 'favourites_count': 41, 'statuses_count': 2150, 'profile_banner_url': 'https://pbs.twimg.com/profile_banners/1227698863/1405953823', 'screen_name': 'BerkeleyData', 'followers_count': 9091, 'profile_background_tile': False, 'profile_background_image_url': 'http://pbs.twimg.com/profile_background_images/378800000096571211/5f9ba86a5d2b87c2c48544133c25b092.jpeg', 'follow_request_sent': False, 'geo_enabled': False, 'profile_link_color': '5173B6', 'profile_image_url': 'http://pbs.twimg.com/profile_images/378800000146514422/6d9a5af0a0abb83d4cfe2d0ab2067ecb_normal.jpeg', 'created_at': 'Thu Feb 28 14:37:26 +0000 2013', 'default_profile': False, 'has_extended_profile': False, 'location': 'Berkeley, CA', 'default_profile_image': False, 'time_zone': 'Eastern Time (US & Canada)', 'verified': False, 'id_str': '1227698863'}, profile_link_color='5173B6', profile_background_color='CCCCCC', protected=False, description='An online Master of Information and Data Science (MIDS) degree from the UC Berkeley School of Information. Learn more at: http://t.co/zf6gfBWovQ', is_translation_enabled=False, is_translator=False, following=False, lang='en', listed_count=437, friends_count=403, profile_background_image_url_https='https://pbs.twimg.com/profile_background_images/378800000096571211/5f9ba86a5d2b87c2c48544133c25b092.jpeg', profile_use_background_image=True, translator_type='none', profile_text_color='333333', statuses_count=2150, profile_banner_url='https://pbs.twimg.com/profile_banners/1227698863/1405953823', profile_sidebar_border_color='FFFFFF', screen_name='BerkeleyData', followers_count=9091, profile_background_tile=False, default_profile=False, follow_request_sent=False, geo_enabled=False, url='http://t.co/S79Ul3oCaa', profile_image_url='http://pbs.twimg.com/profile_images/378800000146514422/6d9a5af0a0abb83d4cfe2d0ab2067ecb_normal.jpeg', profile_background_image_url='http://pbs.twimg.com/profile_background_images/378800000096571211/5f9ba86a5d2b87c2c48544133c25b092.jpeg', location='Berkeley, CA', has_extended_profile=False, contributors_enabled=False, default_profile_image=False, time_zone='Eastern Time (US & Canada)', verified=False, id_str='1227698863')}\n"
     ]
    }
   ],
   "source": [
    "import pprint\n",
    "pprint.pprint(vars(example_tweets[0]))"
   ]
  },
  {
   "cell_type": "markdown",
   "metadata": {},
   "source": [
    "#### Question 2\n",
    "Write code to download all the recent tweets by Hillary Clinton (@HillaryClinton).  Follow our example code if you wish.  Write your code in the form of four **functions** matching the documentation provided.  (You may define additional functions as helpers.)  **Once you've written your functions,** you can run the subsequent cell to download the tweets."
   ]
  },
  {
   "cell_type": "code",
   "execution_count": 5,
   "metadata": {
    "collapsed": false,
    "for_assignment_type": "student"
   },
   "outputs": [],
   "source": [
    "import tweepy\n",
    "import pickle\n",
    "import json\n",
    "def load_keys(path):\n",
    "    \"\"\"Loads your Twitter authentication keys from a file on disk.\n",
    "    \n",
    "    Args:\n",
    "        path (str): The path to your key file.  The file should\n",
    "          be in JSON format and look like this (but filled in):\n",
    "            {\n",
    "                \"consumer_key\": \"<your Consumer Key here>\",\n",
    "                \"consumer_secret\":  \"<your Consumer Secret here>\",\n",
    "                \"access_token\": \"<your Access Token here>\",\n",
    "                \"access_token_secret\": \"<your Access Token Secret here>\"\n",
    "            }\n",
    "    \n",
    "    Returns:\n",
    "        dict: A dictionary mapping key names (like \"consumer_key\") to\n",
    "          key values.\"\"\"\n",
    "    # Loading your keys from keys.json (which you should have filled\n",
    "    # in in question 1):\n",
    "    with open(\"keys.json\") as f:\n",
    "        keys = json.load(f)\n",
    "        \n",
    "    mapping = {}     \n",
    "    mapping[\"consumer_key\"] = keys[\"consumer_key\"]\n",
    "    mapping[\"consumer_secret\"] = keys[\"consumer_secret\"]\n",
    "    mapping[\"access_token\"] = keys[\"access_token\"]\n",
    "    mapping[\"access_token_secret\"] = keys[\"access_token_secret\"]\n",
    "    return mapping\n",
    "    \n",
    "\n",
    "def download_recent_tweets_by_user(user_account_name, keys):\n",
    "    \"\"\"Downloads tweets by one Twitter user.\n",
    "\n",
    "    Args:\n",
    "        user_account_name (str): The name of the Twitter account\n",
    "          whose tweets will be downloaded.\n",
    "        keys (dict): A Python dictionary with Twitter authentication\n",
    "          keys (strings), like this (but filled in):\n",
    "            {\n",
    "                \"consumer_key\": \"<your Consumer Key here>\",\n",
    "                \"consumer_secret\":  \"<your Consumer Secret here>\",\n",
    "                \"access_token\": \"<your Access Token here>\",\n",
    "                \"access_token_secret\": \"<your Access Token Secret here>\"\n",
    "            }\n",
    "\n",
    "    Returns:\n",
    "        list: A list of Status objects, each representing one tweet.\"\"\"\n",
    "    auth = tweepy.OAuthHandler(keys[\"consumer_key\"], keys[\"consumer_secret\"])\n",
    "    auth.set_access_token(keys[\"access_token\"], keys[\"access_token_secret\"])\n",
    "    api = tweepy.API(auth)\n",
    "\n",
    "    # Getting as many recent tweets by user_account_name as Twitter will let us have:\n",
    "    tweets_list = list(tweepy.Cursor(api.user_timeline, id=user_account_name).items())\n",
    "    return tweets_list\n",
    "\n",
    "def save_tweets(tweets, path):\n",
    "    \"\"\"Saves a list of tweets to a file in the local filesystem.\n",
    "    \n",
    "    This function makes no guarantee about the format of the saved\n",
    "    tweets, **except** that calling load_tweets(path) after\n",
    "    save_tweets(tweets, path) will produce the same list of tweets\n",
    "    and that only the file at the given path is used to store the\n",
    "    tweets.  (That means you can implement this function however\n",
    "    you want, as long as saving and loading works!)\n",
    "\n",
    "    Args:\n",
    "        tweets (list): A list of tweet objects (of type Status) to\n",
    "          be saved.\n",
    "        path (str): The place where the tweets will be saved.\n",
    "\n",
    "    Returns:\n",
    "        None\"\"\"\n",
    "    # Saving the tweets to a file as \"pickled\" objects:\n",
    "    with open(path, \"wb\") as outfile:\n",
    "        pickle.dump(tweets, outfile)\n",
    "    \n",
    "def load_tweets(path):\n",
    "    \"\"\"Loads tweets that have previously been saved.\n",
    "    \n",
    "    Calling load_tweets(path) after save_tweets(tweets, path)\n",
    "    will produce the same list of tweets.\n",
    "    \n",
    "    Args:\n",
    "        path (str): The place where the tweets were be saved.\n",
    "\n",
    "    Returns:\n",
    "        list: A list of Status objects, each representing one tweet.\"\"\"\n",
    "    with open(path, \"rb\") as f:\n",
    "        data = pickle.load(f)\n",
    "    return data"
   ]
  },
  {
   "cell_type": "code",
   "execution_count": 6,
   "metadata": {
    "collapsed": true
   },
   "outputs": [],
   "source": [
    "# When you are done, run this cell to load @HillaryClinton's tweets.\n",
    "# Note the function get_tweets_with_cache.  You may find it useful\n",
    "# later.\n",
    "\n",
    "def get_tweets_with_cache(user_account_name, keys_path):\n",
    "    \"\"\"Get recent tweets from one user, loading from a disk cache if available.\n",
    "    \n",
    "    The first time you call this function, it will download tweets by\n",
    "    a user.  Subsequent calls will not re-download the tweets; instead\n",
    "    they'll load the tweets from a save file in your local filesystem.\n",
    "    All this is done using the functions you defined in the previous cell.\n",
    "    This has benefits and drawbacks that often appear when you cache data:\n",
    "    \n",
    "    +: Using this function will prevent extraneous usage of the Twitter API.\n",
    "    +: You will get your data much faster after the first time it's called.\n",
    "    -: If you really want to re-download the tweets (say, to get newer ones,\n",
    "       or because you screwed up something in the previous cell and your\n",
    "       tweets aren't what you wanted), you'll have to find the save file\n",
    "       (which will look like <something>_recent_tweets.pkl) and delete it.\n",
    "    \n",
    "    Args:\n",
    "        user_account_name (str): The Twitter handle of a user, without the @.\n",
    "        keys_path (str): The path to a JSON keys file in your filesystem.\n",
    "    \"\"\"\n",
    "    \n",
    "    save_path = \"{}_recent_tweets.pkl\".format(user_account_name)\n",
    "    \n",
    "    from pathlib import Path\n",
    "    if not Path(save_path).is_file():\n",
    "        keys = load_keys(keys_path)\n",
    "        tweets = download_recent_tweets_by_user(user_account_name, keys)\n",
    "        save_tweets(tweets, save_path)\n",
    "    \n",
    "    return load_tweets(save_path)"
   ]
  },
  {
   "cell_type": "code",
   "execution_count": 7,
   "metadata": {
    "collapsed": false
   },
   "outputs": [],
   "source": [
    "clinton_tweets = get_tweets_with_cache(\"HillaryClinton\", \"keys.json\")"
   ]
  },
  {
   "cell_type": "code",
   "execution_count": 12,
   "metadata": {
    "collapsed": false,
    "scrolled": true
   },
   "outputs": [
    {
     "data": {
      "text/plain": [
       "'Twitter for iPhone'"
      ]
     },
     "execution_count": 12,
     "metadata": {},
     "output_type": "execute_result"
    }
   ],
   "source": [
    "# If everything is working properly, this should print out\n",
    "# a Status object (a single tweet).  clinton_tweets should\n",
    "# contain around 3000 tweets.\n",
    "clinton_tweets[0].source"
   ]
  },
  {
   "cell_type": "code",
   "execution_count": 13,
   "metadata": {
    "collapsed": false
   },
   "outputs": [
    {
     "data": {
      "text/plain": [
       "3218"
      ]
     },
     "execution_count": 13,
     "metadata": {},
     "output_type": "execute_result"
    }
   ],
   "source": [
    "len(clinton_tweets)"
   ]
  },
  {
   "cell_type": "code",
   "execution_count": 14,
   "metadata": {
    "collapsed": false
   },
   "outputs": [
    {
     "name": "stdout",
     "output_type": "stream",
     "text": [
      "~~~~~~~~~~~~~~~~~~~~~~~~~~~~~~~~~~~~~~~~~~~~~~~~~~~~~~~~~~~~~~~~~~~~~\n",
      "Running tests\n",
      "\n",
      "---------------------------------------------------------------------\n",
      "Test summary\n",
      "    Passed: 2\n",
      "    Failed: 0\n",
      "[ooooooooook] 100.0% passed\n",
      "\n"
     ]
    },
    {
     "data": {
      "application/javascript": [
       "IPython.notebook.save_checkpoint();"
      ],
      "text/plain": [
       "<IPython.core.display.Javascript object>"
      ]
     },
     "metadata": {},
     "output_type": "display_data"
    },
    {
     "data": {
      "application/javascript": [
       "IPython.notebook.save_notebook();"
      ],
      "text/plain": [
       "<IPython.core.display.Javascript object>"
      ]
     },
     "metadata": {},
     "output_type": "display_data"
    },
    {
     "name": "stdout",
     "output_type": "stream",
     "text": [
      "Saving notebook... Saved 'hw2.ipynb'.\n",
      "Backup... 100% complete\n",
      "Backup successful for user: jtan0325@berkeley.edu\n",
      "URL: https://okpy.org/cal/data100/sp17/hw2/backups/e7jo6G\n",
      "NOTE: this is only a backup. To submit your assignment, use:\n",
      "\tpython3 ok --submit\n",
      "\n"
     ]
    }
   ],
   "source": [
    "_ = ok.grade('q02')\n",
    "_ = ok.backup()"
   ]
  },
  {
   "cell_type": "markdown",
   "metadata": {},
   "source": [
    "### Exploring the dataset\n",
    "Twitter gives us a lot of information about each tweet, not just its text.  You can read the full documentation [here](https://dev.twitter.com/overview/api/tweets).  Look at one tweet to get a sense of the information we have available."
   ]
  },
  {
   "cell_type": "markdown",
   "metadata": {},
   "source": [
    "#### Question 3\n",
    "Which fields contain:\n",
    "1. the actual text of a tweet,\n",
    "2. the time when the tweet was posted, and\n",
    "3. the source (device and app) from which the tweet was posted?\n",
    "\n",
    "To answer the question, write functions that extract each field from a tweet.  (Each one should take a single Status object as its argument.)"
   ]
  },
  {
   "cell_type": "code",
   "execution_count": 15,
   "metadata": {
    "collapsed": true
   },
   "outputs": [],
   "source": [
    "def extract_text(tweet):\n",
    "    return tweet.text\n",
    "\n",
    "def extract_time(tweet):\n",
    "    return tweet.created_at\n",
    "\n",
    "def extract_source(tweet):\n",
    "    return tweet.source"
   ]
  },
  {
   "cell_type": "code",
   "execution_count": 16,
   "metadata": {
    "collapsed": false
   },
   "outputs": [
    {
     "name": "stdout",
     "output_type": "stream",
     "text": [
      "~~~~~~~~~~~~~~~~~~~~~~~~~~~~~~~~~~~~~~~~~~~~~~~~~~~~~~~~~~~~~~~~~~~~~\n",
      "Running tests\n",
      "\n",
      "---------------------------------------------------------------------\n",
      "Test summary\n",
      "    Passed: 1\n",
      "    Failed: 0\n",
      "[ooooooooook] 100.0% passed\n",
      "\n"
     ]
    },
    {
     "data": {
      "application/javascript": [
       "IPython.notebook.save_checkpoint();"
      ],
      "text/plain": [
       "<IPython.core.display.Javascript object>"
      ]
     },
     "metadata": {},
     "output_type": "display_data"
    },
    {
     "data": {
      "application/javascript": [
       "IPython.notebook.save_notebook();"
      ],
      "text/plain": [
       "<IPython.core.display.Javascript object>"
      ]
     },
     "metadata": {},
     "output_type": "display_data"
    },
    {
     "name": "stdout",
     "output_type": "stream",
     "text": [
      "Saving notebook... Saved 'hw2.ipynb'.\n",
      "Backup... 100% complete\n",
      "Backup successful for user: jtan0325@berkeley.edu\n",
      "URL: https://okpy.org/cal/data100/sp17/hw2/backups/b8kpq5\n",
      "NOTE: this is only a backup. To submit your assignment, use:\n",
      "\tpython3 ok --submit\n",
      "\n"
     ]
    }
   ],
   "source": [
    "_ = ok.grade('q03')\n",
    "_ = ok.backup()"
   ]
  },
  {
   "cell_type": "markdown",
   "metadata": {},
   "source": [
    "#### Question 4\n",
    "Are there any other fields you think might be useful in identifying the true author of an @HillaryClinton tweet?  (If you're reading the documentation, consider whether fields are actually present often enough in the data to be useful.)"
   ]
  },
  {
   "cell_type": "markdown",
   "metadata": {},
   "source": [
    "*The user field is always there and it is good enough to identify the true authoer*"
   ]
  },
  {
   "cell_type": "markdown",
   "metadata": {},
   "source": [
    "## Building a Pandas table\n",
    "JSON (and the Status object, which is just Tweepy's translation of the JSON produced by the Twitter API to a Python object) is nice for transmitting data, but it's not ideal for analysis.  The data will be easier to work with if we put them in a table.\n",
    "\n",
    "To create an empty table in Pandas, write:"
   ]
  },
  {
   "cell_type": "code",
   "execution_count": 17,
   "metadata": {
    "collapsed": true
   },
   "outputs": [],
   "source": [
    "import pandas as pd\n",
    "df = pd.DataFrame()"
   ]
  },
  {
   "cell_type": "markdown",
   "metadata": {},
   "source": [
    "(`pd` is the standard abbrevation for Pandas.)\n",
    "\n",
    "Now let's make a table with useful information in it.  To add a column to a DataFrame called `df`, write:\n",
    "    \n",
    "    df['column_name'] = some_list_or_array\n",
    "\n",
    "([This page](http://pandas.pydata.org/pandas-docs/stable/10min.html) is a useful reference for many of the basic operations in Pandas.  You don't need to read it now, but it might be helpful if you get stuck.)"
   ]
  },
  {
   "cell_type": "markdown",
   "metadata": {},
   "source": [
    "#### Question 5\n",
    "Write a function called `make_dataframe`.  It should take as its argument a list of tweets like `clinton_tweets` and return a Pandas DataFrame.  The DataFrame should contain columns for all the fields in question 3 and any fields you listed in question 4.  **Use the field names as the names of the corresponding columns.**"
   ]
  },
  {
   "cell_type": "code",
   "execution_count": 18,
   "metadata": {
    "collapsed": true
   },
   "outputs": [],
   "source": [
    "def make_dataframe(tweets):\n",
    "    \"\"\"Make a DataFrame from a list of tweets, with a few relevant fields.\n",
    "    \n",
    "    Args:\n",
    "        tweets (list): A list of tweets, each one a Status object.\n",
    "    \n",
    "    Returns:\n",
    "        DataFrame: A Pandas DataFrame containing one row for each element\n",
    "          of tweets and one column for each relevant field.\"\"\"\n",
    "    df = pd.DataFrame()\n",
    "    df['contributors'] = list(map(lambda tweet: tweet.contributors, tweets))\n",
    "    df['coordinates'] = list(map(lambda tweet: tweet.coordinates, tweets))\n",
    "    df['created_at'] = list(map(lambda tweet: tweet.created_at, tweets))\n",
    "    df['entities'] = list(map(lambda tweet: tweet.entities, tweets))\n",
    "    df['favorite_count'] = list(map(lambda tweet: tweet.favorite_count, tweets))\n",
    "    df['favorited'] = list(map(lambda tweet: tweet.favorited, tweets))\n",
    "    df['geo'] = list(map(lambda tweet: tweet.geo, tweets))\n",
    "    df['id'] = list(map(lambda tweet: tweet.id, tweets))\n",
    "    df['id_str'] = list(map(lambda tweet: tweet.id_str, tweets))\n",
    "    df['in_reply_to_screen_name'] = list(map(lambda tweet: tweet.in_reply_to_screen_name, tweets))\n",
    "    df['in_reply_to_status_id'] = list(map(lambda tweet: tweet.in_reply_to_status_id, tweets))\n",
    "    df['in_reply_to_status_id_str'] = list(map(lambda tweet: tweet.in_reply_to_status_id_str, tweets))\n",
    "    df['in_reply_to_user_id'] = list(map(lambda tweet: tweet.in_reply_to_user_id, tweets))\n",
    "    df['in_reply_to_user_id_str'] = list(map(lambda tweet: tweet.in_reply_to_user_id_str, tweets))\n",
    "    df['lang'] = list(map(lambda tweet: tweet.lang, tweets))\n",
    "    df['place'] = list(map(lambda tweet: tweet.place, tweets))\n",
    "    \n",
    "    df['retweet_count'] = list(map(lambda tweet: tweet.retweet_count, tweets))\n",
    "    df['retweeted'] = list(map(lambda tweet: tweet.retweeted, tweets))\n",
    "    df['source'] = list(map(lambda tweet: tweet.source, tweets))\n",
    "    df['truncated'] = list(map(lambda tweet: tweet.truncated, tweets))\n",
    "    \n",
    "    df['text'] = list(map(lambda tweet: tweet.text, tweets))\n",
    "    df['user'] = list(map(lambda tweet: tweet.user, tweets))\n",
    "    '''\n",
    "    df['country_code'] = list(map(lambda tweet: tweet['place']['country_code']\n",
    "                                  if tweet['place'] != None else '', tweets))\n",
    " \n",
    "    df['long'] = list(map(lambda tweet: tweet['coordinates']['coordinates'][0]\n",
    "                        if tweet['coordinates'] != None else 'NaN', tweets))\n",
    " \n",
    "    df['latt'] = list(map(lambda tweet: tweet['coordinates']['coordinates'][1]\n",
    "                        if tweet['coordinates'] != None else 'NaN', tweets))\n",
    "    '''\n",
    " \n",
    "    return df\n",
    "\n",
    "    "
   ]
  },
  {
   "cell_type": "markdown",
   "metadata": {},
   "source": [
    "Now you can run the next line to make your DataFrame."
   ]
  },
  {
   "cell_type": "code",
   "execution_count": 19,
   "metadata": {
    "collapsed": false
   },
   "outputs": [],
   "source": [
    "clinton_df = make_dataframe(clinton_tweets)"
   ]
  },
  {
   "cell_type": "code",
   "execution_count": 20,
   "metadata": {
    "collapsed": false
   },
   "outputs": [
    {
     "data": {
      "text/html": [
       "<div>\n",
       "<table border=\"1\" class=\"dataframe\">\n",
       "  <thead>\n",
       "    <tr style=\"text-align: right;\">\n",
       "      <th></th>\n",
       "      <th>contributors</th>\n",
       "      <th>coordinates</th>\n",
       "      <th>created_at</th>\n",
       "      <th>entities</th>\n",
       "      <th>favorite_count</th>\n",
       "      <th>favorited</th>\n",
       "      <th>geo</th>\n",
       "      <th>id</th>\n",
       "      <th>id_str</th>\n",
       "      <th>in_reply_to_screen_name</th>\n",
       "      <th>...</th>\n",
       "      <th>in_reply_to_user_id</th>\n",
       "      <th>in_reply_to_user_id_str</th>\n",
       "      <th>lang</th>\n",
       "      <th>place</th>\n",
       "      <th>retweet_count</th>\n",
       "      <th>retweeted</th>\n",
       "      <th>source</th>\n",
       "      <th>truncated</th>\n",
       "      <th>text</th>\n",
       "      <th>user</th>\n",
       "    </tr>\n",
       "  </thead>\n",
       "  <tbody>\n",
       "    <tr>\n",
       "      <th>0</th>\n",
       "      <td>None</td>\n",
       "      <td>None</td>\n",
       "      <td>2017-01-29 03:49:45</td>\n",
       "      <td>{'urls': [], 'symbols': [], 'hashtags': [], 'user_mentions': []}</td>\n",
       "      <td>553316</td>\n",
       "      <td>False</td>\n",
       "      <td>None</td>\n",
       "      <td>825551481927503872</td>\n",
       "      <td>825551481927503872</td>\n",
       "      <td>None</td>\n",
       "      <td>...</td>\n",
       "      <td>NaN</td>\n",
       "      <td>None</td>\n",
       "      <td>en</td>\n",
       "      <td>None</td>\n",
       "      <td>169241</td>\n",
       "      <td>False</td>\n",
       "      <td>Twitter for iPhone</td>\n",
       "      <td>False</td>\n",
       "      <td>I stand with the people gathered across the country tonight defending our values &amp;amp; our Constitution. This is not who we are.</td>\n",
       "      <td>User(profile_image_url_https='https://pbs.twimg.com/profile_images/796243884636512260/zHVoWqKV_normal.jpg', id=1339835893, entities={'description'...</td>\n",
       "    </tr>\n",
       "    <tr>\n",
       "      <th>1</th>\n",
       "      <td>None</td>\n",
       "      <td>None</td>\n",
       "      <td>2017-01-23 00:20:14</td>\n",
       "      <td>{'urls': [{'display_url': 'twitter.com/michael_nutter…', 'expanded_url': 'https://twitter.com/michael_nutter/status/822832592114384897', 'indices'...</td>\n",
       "      <td>85717</td>\n",
       "      <td>False</td>\n",
       "      <td>None</td>\n",
       "      <td>823324426301243402</td>\n",
       "      <td>823324426301243402</td>\n",
       "      <td>None</td>\n",
       "      <td>...</td>\n",
       "      <td>NaN</td>\n",
       "      <td>None</td>\n",
       "      <td>en</td>\n",
       "      <td>None</td>\n",
       "      <td>19199</td>\n",
       "      <td>False</td>\n",
       "      <td>Twitter for iPhone</td>\n",
       "      <td>False</td>\n",
       "      <td>.@MichaelNutter got a lot of great points into 140 characters here. We have to keep the momentum. https://t.co/Bd66lBPMEs</td>\n",
       "      <td>User(profile_image_url_https='https://pbs.twimg.com/profile_images/796243884636512260/zHVoWqKV_normal.jpg', id=1339835893, entities={'description'...</td>\n",
       "    </tr>\n",
       "    <tr>\n",
       "      <th>2</th>\n",
       "      <td>None</td>\n",
       "      <td>None</td>\n",
       "      <td>2017-01-23 00:18:36</td>\n",
       "      <td>{'urls': [{'display_url': 'slate.com/blogs/the_slat…', 'expanded_url': 'http://www.slate.com/blogs/the_slatest/2017/01/21/overhead_shots_show_mass...</td>\n",
       "      <td>196033</td>\n",
       "      <td>False</td>\n",
       "      <td>None</td>\n",
       "      <td>823324013984415748</td>\n",
       "      <td>823324013984415748</td>\n",
       "      <td>None</td>\n",
       "      <td>...</td>\n",
       "      <td>NaN</td>\n",
       "      <td>None</td>\n",
       "      <td>en</td>\n",
       "      <td>None</td>\n",
       "      <td>34659</td>\n",
       "      <td>False</td>\n",
       "      <td>Twitter for iPhone</td>\n",
       "      <td>False</td>\n",
       "      <td>Scrolling through images of the #womensmarch is awe-inspiring. Hope it brought joy to others as it did to me.\\nhttps://t.co/29oaMvk3hU</td>\n",
       "      <td>User(profile_image_url_https='https://pbs.twimg.com/profile_images/796243884636512260/zHVoWqKV_normal.jpg', id=1339835893, entities={'description'...</td>\n",
       "    </tr>\n",
       "    <tr>\n",
       "      <th>3</th>\n",
       "      <td>None</td>\n",
       "      <td>None</td>\n",
       "      <td>2017-01-21 20:27:17</td>\n",
       "      <td>{'urls': [{'display_url': 'twitter.com/i/web/status/8…', 'expanded_url': 'https://twitter.com/i/web/status/822903412492734468', 'indices': [117, 1...</td>\n",
       "      <td>118077</td>\n",
       "      <td>False</td>\n",
       "      <td>None</td>\n",
       "      <td>822903412492734468</td>\n",
       "      <td>822903412492734468</td>\n",
       "      <td>None</td>\n",
       "      <td>...</td>\n",
       "      <td>NaN</td>\n",
       "      <td>None</td>\n",
       "      <td>en</td>\n",
       "      <td>None</td>\n",
       "      <td>22676</td>\n",
       "      <td>False</td>\n",
       "      <td>Twitter for iPhone</td>\n",
       "      <td>True</td>\n",
       "      <td>I stand w/ Nora Harren, a 17-year  from Boise, ID, &amp;amp; every person marching for our values today. Onward! ✊✊🏾✊🏽✨… https://t.co/Zt8THPtAn8</td>\n",
       "      <td>User(profile_image_url_https='https://pbs.twimg.com/profile_images/796243884636512260/zHVoWqKV_normal.jpg', id=1339835893, entities={'description'...</td>\n",
       "    </tr>\n",
       "    <tr>\n",
       "      <th>4</th>\n",
       "      <td>None</td>\n",
       "      <td>None</td>\n",
       "      <td>2017-01-21 16:39:53</td>\n",
       "      <td>{'urls': [], 'media': [{'sizes': {'small': {'resize': 'fit', 'w': 680, 'h': 678}, 'medium': {'resize': 'fit', 'w': 1200, 'h': 1196}, 'large': {'re...</td>\n",
       "      <td>264453</td>\n",
       "      <td>False</td>\n",
       "      <td>None</td>\n",
       "      <td>822846188936396803</td>\n",
       "      <td>822846188936396803</td>\n",
       "      <td>None</td>\n",
       "      <td>...</td>\n",
       "      <td>NaN</td>\n",
       "      <td>None</td>\n",
       "      <td>en</td>\n",
       "      <td>None</td>\n",
       "      <td>92620</td>\n",
       "      <td>False</td>\n",
       "      <td>Twitter for iPhone</td>\n",
       "      <td>False</td>\n",
       "      <td>'Hope Not Fear'\\nIndeed. \\nAnd what a beautiful piece by Louisa Cannell. \\n#womensmarch 👊👊🏻👊🏼👊🏽✨ https://t.co/7h3Bzx79nB</td>\n",
       "      <td>User(profile_image_url_https='https://pbs.twimg.com/profile_images/796243884636512260/zHVoWqKV_normal.jpg', id=1339835893, entities={'description'...</td>\n",
       "    </tr>\n",
       "  </tbody>\n",
       "</table>\n",
       "<p>5 rows × 22 columns</p>\n",
       "</div>"
      ],
      "text/plain": [
       "  contributors coordinates          created_at  \\\n",
       "0         None        None 2017-01-29 03:49:45   \n",
       "1         None        None 2017-01-23 00:20:14   \n",
       "2         None        None 2017-01-23 00:18:36   \n",
       "3         None        None 2017-01-21 20:27:17   \n",
       "4         None        None 2017-01-21 16:39:53   \n",
       "\n",
       "                                                                                                                                                entities  \\\n",
       "0                                                                                       {'urls': [], 'symbols': [], 'hashtags': [], 'user_mentions': []}   \n",
       "1  {'urls': [{'display_url': 'twitter.com/michael_nutter…', 'expanded_url': 'https://twitter.com/michael_nutter/status/822832592114384897', 'indices'...   \n",
       "2  {'urls': [{'display_url': 'slate.com/blogs/the_slat…', 'expanded_url': 'http://www.slate.com/blogs/the_slatest/2017/01/21/overhead_shots_show_mass...   \n",
       "3  {'urls': [{'display_url': 'twitter.com/i/web/status/8…', 'expanded_url': 'https://twitter.com/i/web/status/822903412492734468', 'indices': [117, 1...   \n",
       "4  {'urls': [], 'media': [{'sizes': {'small': {'resize': 'fit', 'w': 680, 'h': 678}, 'medium': {'resize': 'fit', 'w': 1200, 'h': 1196}, 'large': {'re...   \n",
       "\n",
       "   favorite_count favorited   geo                  id              id_str  \\\n",
       "0          553316     False  None  825551481927503872  825551481927503872   \n",
       "1           85717     False  None  823324426301243402  823324426301243402   \n",
       "2          196033     False  None  823324013984415748  823324013984415748   \n",
       "3          118077     False  None  822903412492734468  822903412492734468   \n",
       "4          264453     False  None  822846188936396803  822846188936396803   \n",
       "\n",
       "  in_reply_to_screen_name  \\\n",
       "0                    None   \n",
       "1                    None   \n",
       "2                    None   \n",
       "3                    None   \n",
       "4                    None   \n",
       "\n",
       "                                                                           ...                                                                            \\\n",
       "0                                                                          ...                                                                             \n",
       "1                                                                          ...                                                                             \n",
       "2                                                                          ...                                                                             \n",
       "3                                                                          ...                                                                             \n",
       "4                                                                          ...                                                                             \n",
       "\n",
       "   in_reply_to_user_id in_reply_to_user_id_str  lang place retweet_count  \\\n",
       "0                  NaN                    None    en  None        169241   \n",
       "1                  NaN                    None    en  None         19199   \n",
       "2                  NaN                    None    en  None         34659   \n",
       "3                  NaN                    None    en  None         22676   \n",
       "4                  NaN                    None    en  None         92620   \n",
       "\n",
       "  retweeted              source truncated  \\\n",
       "0     False  Twitter for iPhone     False   \n",
       "1     False  Twitter for iPhone     False   \n",
       "2     False  Twitter for iPhone     False   \n",
       "3     False  Twitter for iPhone      True   \n",
       "4     False  Twitter for iPhone     False   \n",
       "\n",
       "                                                                                                                                           text  \\\n",
       "0              I stand with the people gathered across the country tonight defending our values &amp; our Constitution. This is not who we are.   \n",
       "1                     .@MichaelNutter got a lot of great points into 140 characters here. We have to keep the momentum. https://t.co/Bd66lBPMEs   \n",
       "2        Scrolling through images of the #womensmarch is awe-inspiring. Hope it brought joy to others as it did to me.\\nhttps://t.co/29oaMvk3hU   \n",
       "3  I stand w/ Nora Harren, a 17-year  from Boise, ID, &amp; every person marching for our values today. Onward! ✊✊🏾✊🏽✨… https://t.co/Zt8THPtAn8   \n",
       "4                      'Hope Not Fear'\\nIndeed. \\nAnd what a beautiful piece by Louisa Cannell. \\n#womensmarch 👊👊🏻👊🏼👊🏽✨ https://t.co/7h3Bzx79nB   \n",
       "\n",
       "                                                                                                                                                    user  \n",
       "0  User(profile_image_url_https='https://pbs.twimg.com/profile_images/796243884636512260/zHVoWqKV_normal.jpg', id=1339835893, entities={'description'...  \n",
       "1  User(profile_image_url_https='https://pbs.twimg.com/profile_images/796243884636512260/zHVoWqKV_normal.jpg', id=1339835893, entities={'description'...  \n",
       "2  User(profile_image_url_https='https://pbs.twimg.com/profile_images/796243884636512260/zHVoWqKV_normal.jpg', id=1339835893, entities={'description'...  \n",
       "3  User(profile_image_url_https='https://pbs.twimg.com/profile_images/796243884636512260/zHVoWqKV_normal.jpg', id=1339835893, entities={'description'...  \n",
       "4  User(profile_image_url_https='https://pbs.twimg.com/profile_images/796243884636512260/zHVoWqKV_normal.jpg', id=1339835893, entities={'description'...  \n",
       "\n",
       "[5 rows x 22 columns]"
      ]
     },
     "execution_count": 20,
     "metadata": {},
     "output_type": "execute_result"
    }
   ],
   "source": [
    "# The next line causes Pandas to display all the characters\n",
    "# from each tweet when the table is printed, for more\n",
    "# convenient reading.  Comment it out if you don't want it.\n",
    "pd.set_option('display.max_colwidth', 150)\n",
    "\n",
    "clinton_df.head()"
   ]
  },
  {
   "cell_type": "code",
   "execution_count": 21,
   "metadata": {
    "collapsed": false
   },
   "outputs": [
    {
     "name": "stdout",
     "output_type": "stream",
     "text": [
      "~~~~~~~~~~~~~~~~~~~~~~~~~~~~~~~~~~~~~~~~~~~~~~~~~~~~~~~~~~~~~~~~~~~~~\n",
      "Running tests\n",
      "\n",
      "---------------------------------------------------------------------\n",
      "Test summary\n",
      "    Passed: 1\n",
      "    Failed: 0\n",
      "[ooooooooook] 100.0% passed\n",
      "\n"
     ]
    },
    {
     "data": {
      "application/javascript": [
       "IPython.notebook.save_checkpoint();"
      ],
      "text/plain": [
       "<IPython.core.display.Javascript object>"
      ]
     },
     "metadata": {},
     "output_type": "display_data"
    },
    {
     "data": {
      "application/javascript": [
       "IPython.notebook.save_notebook();"
      ],
      "text/plain": [
       "<IPython.core.display.Javascript object>"
      ]
     },
     "metadata": {},
     "output_type": "display_data"
    },
    {
     "name": "stdout",
     "output_type": "stream",
     "text": [
      "Saving notebook... Saved 'hw2.ipynb'.\n",
      "Backup... 100% complete\n",
      "Backup successful for user: jtan0325@berkeley.edu\n",
      "URL: https://okpy.org/cal/data100/sp17/hw2/backups/e9lq84\n",
      "NOTE: this is only a backup. To submit your assignment, use:\n",
      "\tpython3 ok --submit\n",
      "\n"
     ]
    }
   ],
   "source": [
    "_ = ok.grade('q05')\n",
    "_ = ok.backup()"
   ]
  },
  {
   "cell_type": "markdown",
   "metadata": {},
   "source": [
    "## Tweetsourcing\n",
    "Now that the preliminaries are done, we can do what we set out to do: Try to distinguish between Clinton's own tweets and her aides'."
   ]
  },
  {
   "cell_type": "markdown",
   "metadata": {},
   "source": [
    "#### Question 6\n",
    "Create a plot showing how many tweets came from each kind of source.  For a real challenge, try using the Pandas documentation and Google to figure out how to do this.  Otherwise, hints are provided.\n",
    "\n",
    "*Hint:* Start by grouping the data by source.  `df['source'].value_counts()` will create an object called a Series (which is like a table that contains exactly 2 columns, where one column is called the *index*).  You can create a version of that Series that's sorted by source (in this case, in alphabetical order) by calling `sort_index()` on it.\n",
    "\n",
    "*Hint 2:* To generate a bar plot from a Series `s`, call `s.plot.barh()`.  You can also use `matplotlib`'s [`plt.barh`](http://matplotlib.org/api/pyplot_api.html#matplotlib.pyplot.barh), but it's a little bit complicated to use."
   ]
  },
  {
   "cell_type": "code",
   "execution_count": 22,
   "metadata": {
    "collapsed": false
   },
   "outputs": [],
   "source": [
    "# Get the count from each source\n",
    "counts = clinton_df.source.value_counts().sort_index()"
   ]
  },
  {
   "cell_type": "code",
   "execution_count": 23,
   "metadata": {
    "collapsed": false
   },
   "outputs": [
    {
     "data": {
      "text/plain": [
       "pandas.core.series.Series"
      ]
     },
     "execution_count": 23,
     "metadata": {},
     "output_type": "execute_result"
    }
   ],
   "source": [
    "type(counts)"
   ]
  },
  {
   "cell_type": "code",
   "execution_count": 24,
   "metadata": {
    "collapsed": false
   },
   "outputs": [
    {
     "data": {
      "text/plain": [
       "<matplotlib.axes._subplots.AxesSubplot at 0x11e859240>"
      ]
     },
     "execution_count": 24,
     "metadata": {},
     "output_type": "execute_result"
    },
    {
     "data": {
      "image/png": "[encoded data removed]",
      "text/plain": [
       "<matplotlib.figure.Figure at 0x11e87f128>"
      ]
     },
     "metadata": {},
     "output_type": "display_data"
    }
   ],
   "source": [
    "# Plotting\n",
    "counts.plot.barh()"
   ]
  },
  {
   "cell_type": "markdown",
   "metadata": {},
   "source": [
    "You should find that most tweets come from [TweetDeck](https://tweetdeck.twitter.com)."
   ]
  },
  {
   "cell_type": "markdown",
   "metadata": {},
   "source": [
    "#### Question 7\n",
    "Filter `clinton_df` to examine some tweets from TweetDeck and a few from the next-most-used platform.  From examining only a few tweets (say 10 from each category), can you tell whether Clinton's personal tweets are limited to one platform?\n",
    "\n",
    "*Hint:* If `df` is a DataFrame and `filter_array` is an array of booleans of the same length, then `df[filter_array]` is a new DataFrame containing only the rows in `df` corresponding to `True` values in `filter_array`."
   ]
  },
  {
   "cell_type": "code",
   "execution_count": 25,
   "metadata": {
    "collapsed": true,
    "for_assignment_type": "student"
   },
   "outputs": [],
   "source": [
    "# Do your analysis, then write your conclusions in a brief comment.\n",
    "clinton_tweetDeck = clinton_df[clinton_df['source'] == 'TweetDeck']\n",
    "clinton_webClint = clinton_df[clinton_df['source'] == 'Twitter Web Client']\n",
    "\n",
    "# Clinton's personal tweets are limited to the TweetDeck platform since most of the tweets from this platform\n",
    "# has \"—Hillary\" at the end."
   ]
  },
  {
   "cell_type": "markdown",
   "metadata": {},
   "source": [
    "## When in doubt, read...\n",
    "Check Hillary Clinton's [Twitter page](http://twitter.com/HillaryClinton).  It mentions an easy way to identify tweets by the candidate herself.  All other tweets are by her aides."
   ]
  },
  {
   "cell_type": "markdown",
   "metadata": {},
   "source": [
    "#### Question 8\n",
    "Write a function called `is_clinton` that takes a tweet (in JSON) as its argument and returns `True` for personal tweets by Clinton and `False` for tweets by her aides.  Use your function to create a column called `is_personal` in `clinton_df`.\n",
    "\n",
    "*Hint:* You might find the string method `endswith` helpful."
   ]
  },
  {
   "cell_type": "code",
   "execution_count": 45,
   "metadata": {
    "collapsed": true
   },
   "outputs": [],
   "source": [
    "def is_clinton(tweet):\n",
    "    \"\"\"Distinguishes between tweets by Clinton and tweets by her aides.\n",
    "    \n",
    "    Args:\n",
    "        tweet (Status): One tweet.\n",
    "    \n",
    "    Returns:\n",
    "        bool: True if the tweet is written by Clinton herself.\"\"\"\n",
    "    suffix = \"-H\"\n",
    "    return tweet.text.endswith(suffix)\n",
    "\n",
    "clinton_df['is_personal'] = [is_clinton(tweet) for tweet in clinton_tweets]"
   ]
  },
  {
   "cell_type": "markdown",
   "metadata": {},
   "source": [
    "Now we have identified Clinton's personal tweets.  Let us return to our analysis of sources and see if there was any pattern we could have found.\n",
    "\n",
    "You may recall that Tables from Data 8 have a method called `pivot`, which is useful for cross-classifying a dataset on two categorical attrbiutes.  DataFrames support a more complicated version of pivoting.  The cell below pivots `clinton_df` for you."
   ]
  },
  {
   "cell_type": "code",
   "execution_count": 53,
   "metadata": {
    "collapsed": false
   },
   "outputs": [
    {
     "data": {
      "text/html": [
       "<div>\n",
       "<table border=\"1\" class=\"dataframe\">\n",
       "  <thead>\n",
       "    <tr style=\"text-align: right;\">\n",
       "      <th>is_personal</th>\n",
       "      <th>False</th>\n",
       "      <th>True</th>\n",
       "    </tr>\n",
       "    <tr>\n",
       "      <th>source</th>\n",
       "      <th></th>\n",
       "      <th></th>\n",
       "    </tr>\n",
       "  </thead>\n",
       "  <tbody>\n",
       "    <tr>\n",
       "      <th>Media Studio</th>\n",
       "      <td>207</td>\n",
       "      <td>0</td>\n",
       "    </tr>\n",
       "    <tr>\n",
       "      <th>TweetDeck</th>\n",
       "      <td>2418</td>\n",
       "      <td>31</td>\n",
       "    </tr>\n",
       "    <tr>\n",
       "      <th>Twitter Web Client</th>\n",
       "      <td>471</td>\n",
       "      <td>14</td>\n",
       "    </tr>\n",
       "    <tr>\n",
       "      <th>Twitter for iPhone</th>\n",
       "      <td>71</td>\n",
       "      <td>6</td>\n",
       "    </tr>\n",
       "  </tbody>\n",
       "</table>\n",
       "</div>"
      ],
      "text/plain": [
       "is_personal         False  True\n",
       "source                         \n",
       "Media Studio          207     0\n",
       "TweetDeck            2418    31\n",
       "Twitter Web Client    471    14\n",
       "Twitter for iPhone     71     6"
      ]
     },
     "execution_count": 53,
     "metadata": {},
     "output_type": "execute_result"
    }
   ],
   "source": [
    "# This cell is filled in for you; just run it and examine the output.\n",
    "def pivot_count(df, vertical_column, horizontal_column):\n",
    "    \"\"\"Cross-classifies df on two columns.\"\"\"\n",
    "    pivoted = pd.pivot_table(df[[vertical_column, horizontal_column]], index=[vertical_column], columns=[horizontal_column], aggfunc=len, fill_value=0)\n",
    "    return pivoted.rename(columns={False: \"False\", True: \"True\"})\n",
    "\n",
    "clinton_pivoted = pivot_count(clinton_df, 'source', 'is_personal')\n",
    "clinton_pivoted"
   ]
  },
  {
   "cell_type": "markdown",
   "metadata": {},
   "source": [
    "Do Clinton and her aides have different \"signatures\" of tweet sources?  That is, for each tweet they send, does Clinton send tweets from each source with roughly the same frequency as her aides?  It's a little hard to tell from the pivoted table alone."
   ]
  },
  {
   "cell_type": "markdown",
   "metadata": {},
   "source": [
    "#### Question 9\n",
    "Create a visualization to facilitate that comparison.\n",
    "\n",
    "*Hint:* `df.plot.barh` works for DataFrames, too.  But think about what data you want to plot."
   ]
  },
  {
   "cell_type": "code",
   "execution_count": 54,
   "metadata": {
    "collapsed": true
   },
   "outputs": [],
   "source": [
    "def calc_freq(df):\n",
    "    df['False'] = df['False']/sum(df['False'])\n",
    "    df['True'] = df['True']/sum(df['True'])"
   ]
  },
  {
   "cell_type": "code",
   "execution_count": 55,
   "metadata": {
    "collapsed": false
   },
   "outputs": [],
   "source": [
    "calc_freq(clinton_pivoted)"
   ]
  },
  {
   "cell_type": "code",
   "execution_count": 56,
   "metadata": {
    "collapsed": false,
    "for_assignment_type": "student"
   },
   "outputs": [
    {
     "data": {
      "text/plain": [
       "<matplotlib.axes._subplots.AxesSubplot at 0x1222536a0>"
      ]
     },
     "execution_count": 56,
     "metadata": {},
     "output_type": "execute_result"
    },
    {
     "data": {
      "image/png": "[encoded data removed]",
      "text/plain": [
       "<matplotlib.figure.Figure at 0x12247dac8>"
      ]
     },
     "metadata": {},
     "output_type": "display_data"
    }
   ],
   "source": [
    "clinton_pivoted.plot.barh()"
   ]
  },
  {
   "cell_type": "markdown",
   "metadata": {},
   "source": [
    "You should see that there are some differences, but they aren't large.  Do we need to worry that the differences (or lack thereof) are just \"due to chance\"?\n",
    "\n",
    "Statistician Ani argues as follows:\n",
    "\n",
    "> \"The tweets we see are not a random sample from anything.  We have simply gathered every tweet by @HillaryClinton from the last several months.  It is therefore meaningless to compute, for example, a confidence interval for the rate at which Clinton used TweetDeck.  We have calculated exactly that rate from the data we have.\"\n",
    "\n",
    "Statistician Belinda responds:\n",
    "\n",
    "> \"We are interested in whether Clinton and her aides *behave differently in general* with respect to Twitter client usage in a way that we could use to identify their tweets.  It's plausible to imagine that the tweets we see are a random sample from a huge unobserved population of all the tweets Clinton and her aides *might send*.  We must worry about error due to random chance when we draw conclusions about this population using only the data we have available.\""
   ]
  },
  {
   "cell_type": "markdown",
   "metadata": {},
   "source": [
    "#### Question 10\n",
    "What position would you take on this question?  Choose a side and give one (brief) argument for it, or argue for some third position."
   ]
  },
  {
   "cell_type": "markdown",
   "metadata": {},
   "source": [
    "*I stand on Belinda's side because we only have access to limited amount of the tweets sent form @HillaryClinton in a range of time, but these tweets are not randomly sampled. In addition, tweets from Clinton herself may be fewer than normal in this range of time.*"
   ]
  },
  {
   "cell_type": "markdown",
   "metadata": {},
   "source": [
    "#### Question 11\n",
    "Assume you are convinced by Belinda's argument.  Perform a statistical test of the null hypothesis that the Clinton and aide tweets' sources are all independent samples from the same distribution (that is, that the differences we observe are \"due to chance\").  Briefly describe the test methodology and report your results.\n",
    "\n",
    "*Hint:* If you need a refresher, [this section](https://www.inferentialthinking.com/chapters/16/1/two-categorical-distributions.html) of the Data 8 textbook from Fall 2016 covered this kind of hypothesis test.\n",
    "\n",
    "*Hint 2:* Feel free to use `datascience.Table` to answer this question.  However, it will be advantageous to learn how to do it with `numpy` alone.  In our solution, we used some `numpy` functions you might not be aware of: `np.append`, `np.random.permutation`, `np.bincount`, and `np.count_nonzero`.  We have provided the function `expand_counts`, which should help you solve a tricky problem that will arise."
   ]
  },
  {
   "cell_type": "code",
   "execution_count": 40,
   "metadata": {
    "collapsed": true,
    "for_assignment_type": "student"
   },
   "outputs": [],
   "source": [
    "# Use this cell to perform your hypothesis test.\n",
    "\n",
    "# This function is provided for your convenience.  It's okay\n",
    "# if you don't use it.\n",
    "def expand_counts(source_counts):\n",
    "    \"\"\"'Blow up' a list/array of counts of categories into an array of\n",
    "    individuals matching the counts.  This is the inverse of np.bincount\n",
    "    (with some technical caveats: only if the order of the individuals\n",
    "    doesn't matter and each category has at least one count).\n",
    "    \n",
    "    For example, we can generate a list of two individuals of type 0,\n",
    "    four of type 1, zero of type 2, and one of type 3 as follows:\n",
    "    \n",
    "    >>> expand_counts([2, 4, 0, 1])\n",
    "    array([0, 0, 1, 1, 1, 1, 3])\"\"\"\n",
    "    return np.repeat(np.arange(len(source_counts)), source_counts)\n",
    "\n"
   ]
  },
  {
   "cell_type": "code",
   "execution_count": 41,
   "metadata": {
    "collapsed": true
   },
   "outputs": [],
   "source": [
    "def tvd(dist1, dist2):\n",
    "    return 0.5*(np.sum(np.abs(dist1 - dist2)))"
   ]
  },
  {
   "cell_type": "code",
   "execution_count": 57,
   "metadata": {
    "collapsed": false
   },
   "outputs": [
    {
     "data": {
      "text/plain": [
       "0.22101698273246781"
      ]
     },
     "execution_count": 57,
     "metadata": {},
     "output_type": "execute_result"
    }
   ],
   "source": [
    "observed_tvd = tvd(clinton_pivoted.iloc[:,0], clinton_pivoted.iloc[:,1])\n",
    "observed_tvd"
   ]
  },
  {
   "cell_type": "code",
   "execution_count": 58,
   "metadata": {
    "collapsed": false
   },
   "outputs": [],
   "source": [
    "repetitions = 5000\n",
    "tvds = []\n",
    "for i in np.arange(repetitions):\n",
    "    shuffled_source = np.random.permutation(clinton_df['source'])\n",
    "    clinton_df['Shuffle source'] = shuffled_source\n",
    "    shuffled_counts = pivot_count(clinton_df, 'Shuffle source', 'is_personal')\n",
    "    calc_freq(shuffled_counts)\n",
    "    new_tvd = tvd(shuffled_counts.iloc[:, 0], shuffled_counts.iloc[:,1])\n",
    "    tvds.append(new_tvd)"
   ]
  },
  {
   "cell_type": "code",
   "execution_count": 59,
   "metadata": {
    "collapsed": false
   },
   "outputs": [
    {
     "name": "stdout",
     "output_type": "stream",
     "text": [
      "Observed TVD: 0.221016982732\n"
     ]
    },
    {
     "data": {
      "image/png": "[encoded data removed]",
      "text/plain": [
       "<matplotlib.figure.Figure at 0x1222570b8>"
      ]
     },
     "metadata": {},
     "output_type": "display_data"
    }
   ],
   "source": [
    "plt.hist(tvds)\n",
    "plt.title('Empirical Distribution Under the Null')\n",
    "print('Observed TVD:', observed_tvd)"
   ]
  },
  {
   "cell_type": "markdown",
   "metadata": {},
   "source": [
    "##### Methodology\n",
    "\n",
    "Use the hypothesis testing to verify if there is a correlation between the source of the tweet and Clinton her own tweet. The hypothesis is: There is some sort of correlation between the source of the tweet and Clinton her own tweet. The null hypothesis is there is no correlation. \n",
    "\n",
    "The way to test the null hypothesis is by finding the *tvd* of the pivot table produced by 'Shuffle source' and  'is_personal' column. If there is no correlation, then each time the return value of *tvd* should be similar. However, the result I got is a skew lift distribution. Thus the null hypothesis is false.\n",
    "\n",
    "##### Result\n",
    "\n",
    "Clinton is more likely to post from the Twitter Web Client than her aides."
   ]
  },
  {
   "cell_type": "markdown",
   "metadata": {},
   "source": [
    "#### Question 12\n",
    "Suppose you sample a random @HillaryClinton tweet and find that it is from the Twitter Web Client.  Your visualization in question 9 should show you that Clinton tweets from this source about twice as frequently as her aides do, so you might imagine it's reasonable to predict that the tweet is by Clinton.  But what is the probability that the tweet is by Clinton?  (You should find a relatively small number.  Clinton's aides tweet much more than she does.  So even though there is a difference in their tweet source usage, it would be difficult to classify tweets this way.)\n",
    "\n",
    "*Hint:* Bayes' rule is covered in [this section](https://www.inferentialthinking.com/chapters/17/1/more-likely-than-not-binary-classifier.html) of the Data 8 textbook."
   ]
  },
  {
   "cell_type": "code",
   "execution_count": 60,
   "metadata": {
    "collapsed": false
   },
   "outputs": [
    {
     "data": {
      "text/html": [
       "<div>\n",
       "<table border=\"1\" class=\"dataframe\">\n",
       "  <thead>\n",
       "    <tr style=\"text-align: right;\">\n",
       "      <th>is_personal</th>\n",
       "      <th>False</th>\n",
       "      <th>True</th>\n",
       "    </tr>\n",
       "    <tr>\n",
       "      <th>source</th>\n",
       "      <th></th>\n",
       "      <th></th>\n",
       "    </tr>\n",
       "  </thead>\n",
       "  <tbody>\n",
       "    <tr>\n",
       "      <th>Media Studio</th>\n",
       "      <td>0.065362</td>\n",
       "      <td>0.000000</td>\n",
       "    </tr>\n",
       "    <tr>\n",
       "      <th>TweetDeck</th>\n",
       "      <td>0.763499</td>\n",
       "      <td>0.607843</td>\n",
       "    </tr>\n",
       "    <tr>\n",
       "      <th>Twitter Web Client</th>\n",
       "      <td>0.148721</td>\n",
       "      <td>0.274510</td>\n",
       "    </tr>\n",
       "    <tr>\n",
       "      <th>Twitter for iPhone</th>\n",
       "      <td>0.022419</td>\n",
       "      <td>0.117647</td>\n",
       "    </tr>\n",
       "  </tbody>\n",
       "</table>\n",
       "</div>"
      ],
      "text/plain": [
       "is_personal            False      True\n",
       "source                                \n",
       "Media Studio        0.065362  0.000000\n",
       "TweetDeck           0.763499  0.607843\n",
       "Twitter Web Client  0.148721  0.274510\n",
       "Twitter for iPhone  0.022419  0.117647"
      ]
     },
     "execution_count": 60,
     "metadata": {},
     "output_type": "execute_result"
    }
   ],
   "source": [
    "clinton_pivoted"
   ]
  },
  {
   "cell_type": "code",
   "execution_count": 61,
   "metadata": {
    "collapsed": false
   },
   "outputs": [
    {
     "data": {
      "text/plain": [
       "0.0288659793814433"
      ]
     },
     "execution_count": 61,
     "metadata": {},
     "output_type": "execute_result"
    }
   ],
   "source": [
    "probability_clinton = (14/(14+31+6))*((31+14+6)/3218)/((471+14)/3218)\n",
    "probability_clinton"
   ]
  },
  {
   "cell_type": "code",
   "execution_count": 62,
   "metadata": {
    "collapsed": false
   },
   "outputs": [
    {
     "name": "stdout",
     "output_type": "stream",
     "text": [
      "~~~~~~~~~~~~~~~~~~~~~~~~~~~~~~~~~~~~~~~~~~~~~~~~~~~~~~~~~~~~~~~~~~~~~\n",
      "Running tests\n",
      "\n",
      "---------------------------------------------------------------------\n",
      "Test summary\n",
      "    Passed: 1\n",
      "    Failed: 0\n",
      "[ooooooooook] 100.0% passed\n",
      "\n"
     ]
    },
    {
     "data": {
      "application/javascript": [
       "IPython.notebook.save_checkpoint();"
      ],
      "text/plain": [
       "<IPython.core.display.Javascript object>"
      ]
     },
     "metadata": {},
     "output_type": "display_data"
    },
    {
     "data": {
      "application/javascript": [
       "IPython.notebook.save_notebook();"
      ],
      "text/plain": [
       "<IPython.core.display.Javascript object>"
      ]
     },
     "metadata": {},
     "output_type": "display_data"
    },
    {
     "name": "stdout",
     "output_type": "stream",
     "text": [
      "Saving notebook... Saved 'hw2.ipynb'.\n",
      "Backup... 100% complete\n",
      "Backup successful for user: jtan0325@berkeley.edu\n",
      "URL: https://okpy.org/cal/data100/sp17/hw2/backups/bWZ5px\n",
      "NOTE: this is only a backup. To submit your assignment, use:\n",
      "\tpython3 ok --submit\n",
      "\n"
     ]
    }
   ],
   "source": [
    "_ = ok.grade('q12')\n",
    "_ = ok.backup()"
   ]
  },
  {
   "cell_type": "markdown",
   "metadata": {},
   "source": [
    "# Another candidate\n",
    "Our results so far aren't Earth-shattering.  Clinton uses different Twitter clients at slightly different rates than her aides.\n",
    "\n",
    "Now that we've categorized the tweets, we could of course investigate their contents.  A manual analysis (also known as \"reading\") might be interesting, but it is beyond the scope of this course.  And we'll have to wait a few more weeks before we can use a computer to help with such an analysis.\n",
    "\n",
    "Instead, let's repeat our analysis for Donald Trump."
   ]
  },
  {
   "cell_type": "markdown",
   "metadata": {},
   "source": [
    "#### Question 13\n",
    "Download the tweet data for Trump (@realDonaldTrump), and repeat the steps through question 6 to create a table called `trump_df`."
   ]
  },
  {
   "cell_type": "code",
   "execution_count": 63,
   "metadata": {
    "collapsed": true
   },
   "outputs": [],
   "source": [
    "trump_tweets = get_tweets_with_cache(\"realDonaldTrump\", \"keys.json\")\n",
    "trump_df = make_dataframe(trump_tweets)"
   ]
  },
  {
   "cell_type": "code",
   "execution_count": 64,
   "metadata": {
    "collapsed": false
   },
   "outputs": [
    {
     "data": {
      "text/html": [
       "<div>\n",
       "<table border=\"1\" class=\"dataframe\">\n",
       "  <thead>\n",
       "    <tr style=\"text-align: right;\">\n",
       "      <th></th>\n",
       "      <th>contributors</th>\n",
       "      <th>coordinates</th>\n",
       "      <th>created_at</th>\n",
       "      <th>entities</th>\n",
       "      <th>favorite_count</th>\n",
       "      <th>favorited</th>\n",
       "      <th>geo</th>\n",
       "      <th>id</th>\n",
       "      <th>id_str</th>\n",
       "      <th>in_reply_to_screen_name</th>\n",
       "      <th>...</th>\n",
       "      <th>in_reply_to_user_id</th>\n",
       "      <th>in_reply_to_user_id_str</th>\n",
       "      <th>lang</th>\n",
       "      <th>place</th>\n",
       "      <th>retweet_count</th>\n",
       "      <th>retweeted</th>\n",
       "      <th>source</th>\n",
       "      <th>truncated</th>\n",
       "      <th>text</th>\n",
       "      <th>user</th>\n",
       "    </tr>\n",
       "  </thead>\n",
       "  <tbody>\n",
       "    <tr>\n",
       "      <th>0</th>\n",
       "      <td>None</td>\n",
       "      <td>None</td>\n",
       "      <td>2017-01-30 14:23:49</td>\n",
       "      <td>{'urls': [], 'symbols': [], 'hashtags': [], 'user_mentions': []}</td>\n",
       "      <td>96328</td>\n",
       "      <td>False</td>\n",
       "      <td>None</td>\n",
       "      <td>826073437735100418</td>\n",
       "      <td>826073437735100418</td>\n",
       "      <td>None</td>\n",
       "      <td>...</td>\n",
       "      <td>NaN</td>\n",
       "      <td>None</td>\n",
       "      <td>en</td>\n",
       "      <td>None</td>\n",
       "      <td>21031</td>\n",
       "      <td>False</td>\n",
       "      <td>Twitter for iPhone</td>\n",
       "      <td>False</td>\n",
       "      <td>Where was all the outrage from Democrats and the opposition party (the media) when our jobs were fleeing our country?</td>\n",
       "      <td>User(profile_image_url_https='https://pbs.twimg.com/profile_images/1980294624/DJT_Headshot_V2_normal.jpg', id=25073877, entities={'description': {...</td>\n",
       "    </tr>\n",
       "    <tr>\n",
       "      <th>1</th>\n",
       "      <td>None</td>\n",
       "      <td>None</td>\n",
       "      <td>2017-01-30 13:43:25</td>\n",
       "      <td>{'urls': [], 'symbols': [], 'hashtags': [], 'user_mentions': []}</td>\n",
       "      <td>80355</td>\n",
       "      <td>False</td>\n",
       "      <td>None</td>\n",
       "      <td>826063267760046080</td>\n",
       "      <td>826063267760046080</td>\n",
       "      <td>None</td>\n",
       "      <td>...</td>\n",
       "      <td>NaN</td>\n",
       "      <td>None</td>\n",
       "      <td>en</td>\n",
       "      <td>None</td>\n",
       "      <td>18127</td>\n",
       "      <td>False</td>\n",
       "      <td>Twitter for Android</td>\n",
       "      <td>False</td>\n",
       "      <td>I have made my decision on who I will nominate for The United States Supreme Court. It will be announced live on Tuesday at 8:00 P.M. (W.H.)</td>\n",
       "      <td>User(profile_image_url_https='https://pbs.twimg.com/profile_images/1980294624/DJT_Headshot_V2_normal.jpg', id=25073877, entities={'description': {...</td>\n",
       "    </tr>\n",
       "    <tr>\n",
       "      <th>2</th>\n",
       "      <td>None</td>\n",
       "      <td>None</td>\n",
       "      <td>2017-01-30 13:31:00</td>\n",
       "      <td>{'urls': [], 'symbols': [], 'hashtags': [], 'user_mentions': []}</td>\n",
       "      <td>107849</td>\n",
       "      <td>False</td>\n",
       "      <td>None</td>\n",
       "      <td>826060143825666051</td>\n",
       "      <td>826060143825666051</td>\n",
       "      <td>None</td>\n",
       "      <td>...</td>\n",
       "      <td>NaN</td>\n",
       "      <td>None</td>\n",
       "      <td>en</td>\n",
       "      <td>None</td>\n",
       "      <td>24261</td>\n",
       "      <td>False</td>\n",
       "      <td>Twitter for Android</td>\n",
       "      <td>False</td>\n",
       "      <td>If the ban were announced with a one week notice, the \"bad\" would rush into our country during that week. A lot of bad \"dudes\" out there!</td>\n",
       "      <td>User(profile_image_url_https='https://pbs.twimg.com/profile_images/1980294624/DJT_Headshot_V2_normal.jpg', id=25073877, entities={'description': {...</td>\n",
       "    </tr>\n",
       "    <tr>\n",
       "      <th>3</th>\n",
       "      <td>None</td>\n",
       "      <td>None</td>\n",
       "      <td>2017-01-30 12:27:05</td>\n",
       "      <td>{'urls': [], 'symbols': [], 'hashtags': [], 'user_mentions': []}</td>\n",
       "      <td>114759</td>\n",
       "      <td>False</td>\n",
       "      <td>None</td>\n",
       "      <td>826044059647107073</td>\n",
       "      <td>826044059647107073</td>\n",
       "      <td>None</td>\n",
       "      <td>...</td>\n",
       "      <td>NaN</td>\n",
       "      <td>None</td>\n",
       "      <td>en</td>\n",
       "      <td>None</td>\n",
       "      <td>25488</td>\n",
       "      <td>False</td>\n",
       "      <td>Twitter for Android</td>\n",
       "      <td>False</td>\n",
       "      <td>There is nothing nice about searching for terrorists before they can enter our country. This was a big part of my campaign. Study the world!</td>\n",
       "      <td>User(profile_image_url_https='https://pbs.twimg.com/profile_images/1980294624/DJT_Headshot_V2_normal.jpg', id=25073877, entities={'description': {...</td>\n",
       "    </tr>\n",
       "    <tr>\n",
       "      <th>4</th>\n",
       "      <td>None</td>\n",
       "      <td>None</td>\n",
       "      <td>2017-01-30 12:20:49</td>\n",
       "      <td>{'urls': [], 'symbols': [], 'hashtags': [], 'user_mentions': []}</td>\n",
       "      <td>92209</td>\n",
       "      <td>False</td>\n",
       "      <td>None</td>\n",
       "      <td>826042483155013632</td>\n",
       "      <td>826042483155013632</td>\n",
       "      <td>None</td>\n",
       "      <td>...</td>\n",
       "      <td>NaN</td>\n",
       "      <td>None</td>\n",
       "      <td>en</td>\n",
       "      <td>None</td>\n",
       "      <td>18286</td>\n",
       "      <td>False</td>\n",
       "      <td>Twitter for Android</td>\n",
       "      <td>False</td>\n",
       "      <td>protesters and the tears of Senator Schumer. Secretary Kelly said that all is going well with very few problems. MAKE AMERICA SAFE AGAIN!</td>\n",
       "      <td>User(profile_image_url_https='https://pbs.twimg.com/profile_images/1980294624/DJT_Headshot_V2_normal.jpg', id=25073877, entities={'description': {...</td>\n",
       "    </tr>\n",
       "  </tbody>\n",
       "</table>\n",
       "<p>5 rows × 22 columns</p>\n",
       "</div>"
      ],
      "text/plain": [
       "  contributors coordinates          created_at  \\\n",
       "0         None        None 2017-01-30 14:23:49   \n",
       "1         None        None 2017-01-30 13:43:25   \n",
       "2         None        None 2017-01-30 13:31:00   \n",
       "3         None        None 2017-01-30 12:27:05   \n",
       "4         None        None 2017-01-30 12:20:49   \n",
       "\n",
       "                                                           entities  \\\n",
       "0  {'urls': [], 'symbols': [], 'hashtags': [], 'user_mentions': []}   \n",
       "1  {'urls': [], 'symbols': [], 'hashtags': [], 'user_mentions': []}   \n",
       "2  {'urls': [], 'symbols': [], 'hashtags': [], 'user_mentions': []}   \n",
       "3  {'urls': [], 'symbols': [], 'hashtags': [], 'user_mentions': []}   \n",
       "4  {'urls': [], 'symbols': [], 'hashtags': [], 'user_mentions': []}   \n",
       "\n",
       "   favorite_count favorited   geo                  id              id_str  \\\n",
       "0           96328     False  None  826073437735100418  826073437735100418   \n",
       "1           80355     False  None  826063267760046080  826063267760046080   \n",
       "2          107849     False  None  826060143825666051  826060143825666051   \n",
       "3          114759     False  None  826044059647107073  826044059647107073   \n",
       "4           92209     False  None  826042483155013632  826042483155013632   \n",
       "\n",
       "  in_reply_to_screen_name  \\\n",
       "0                    None   \n",
       "1                    None   \n",
       "2                    None   \n",
       "3                    None   \n",
       "4                    None   \n",
       "\n",
       "                                                                           ...                                                                            \\\n",
       "0                                                                          ...                                                                             \n",
       "1                                                                          ...                                                                             \n",
       "2                                                                          ...                                                                             \n",
       "3                                                                          ...                                                                             \n",
       "4                                                                          ...                                                                             \n",
       "\n",
       "   in_reply_to_user_id in_reply_to_user_id_str  lang place retweet_count  \\\n",
       "0                  NaN                    None    en  None         21031   \n",
       "1                  NaN                    None    en  None         18127   \n",
       "2                  NaN                    None    en  None         24261   \n",
       "3                  NaN                    None    en  None         25488   \n",
       "4                  NaN                    None    en  None         18286   \n",
       "\n",
       "  retweeted               source truncated  \\\n",
       "0     False   Twitter for iPhone     False   \n",
       "1     False  Twitter for Android     False   \n",
       "2     False  Twitter for Android     False   \n",
       "3     False  Twitter for Android     False   \n",
       "4     False  Twitter for Android     False   \n",
       "\n",
       "                                                                                                                                           text  \\\n",
       "0                         Where was all the outrage from Democrats and the opposition party (the media) when our jobs were fleeing our country?   \n",
       "1  I have made my decision on who I will nominate for The United States Supreme Court. It will be announced live on Tuesday at 8:00 P.M. (W.H.)   \n",
       "2     If the ban were announced with a one week notice, the \"bad\" would rush into our country during that week. A lot of bad \"dudes\" out there!   \n",
       "3  There is nothing nice about searching for terrorists before they can enter our country. This was a big part of my campaign. Study the world!   \n",
       "4     protesters and the tears of Senator Schumer. Secretary Kelly said that all is going well with very few problems. MAKE AMERICA SAFE AGAIN!   \n",
       "\n",
       "                                                                                                                                                    user  \n",
       "0  User(profile_image_url_https='https://pbs.twimg.com/profile_images/1980294624/DJT_Headshot_V2_normal.jpg', id=25073877, entities={'description': {...  \n",
       "1  User(profile_image_url_https='https://pbs.twimg.com/profile_images/1980294624/DJT_Headshot_V2_normal.jpg', id=25073877, entities={'description': {...  \n",
       "2  User(profile_image_url_https='https://pbs.twimg.com/profile_images/1980294624/DJT_Headshot_V2_normal.jpg', id=25073877, entities={'description': {...  \n",
       "3  User(profile_image_url_https='https://pbs.twimg.com/profile_images/1980294624/DJT_Headshot_V2_normal.jpg', id=25073877, entities={'description': {...  \n",
       "4  User(profile_image_url_https='https://pbs.twimg.com/profile_images/1980294624/DJT_Headshot_V2_normal.jpg', id=25073877, entities={'description': {...  \n",
       "\n",
       "[5 rows x 22 columns]"
      ]
     },
     "execution_count": 64,
     "metadata": {},
     "output_type": "execute_result"
    }
   ],
   "source": [
    "trump_df.head()"
   ]
  },
  {
   "cell_type": "markdown",
   "metadata": {},
   "source": [
    "#### Question 14\n",
    "Make a bar chart of the sources of Trump tweets."
   ]
  },
  {
   "cell_type": "code",
   "execution_count": 66,
   "metadata": {
    "collapsed": false
   },
   "outputs": [
    {
     "data": {
      "text/plain": [
       "<matplotlib.axes._subplots.AxesSubplot at 0x12217cf60>"
      ]
     },
     "execution_count": 66,
     "metadata": {},
     "output_type": "execute_result"
    },
    {
     "data": {
      "image/png": "[encoded data removed]",
      "text/plain": [
       "<matplotlib.figure.Figure at 0x104545ba8>"
      ]
     },
     "metadata": {},
     "output_type": "display_data"
    }
   ],
   "source": [
    "trump_source_counts = clinton_df.source.value_counts().sort_index()\n",
    "# Plotting\n",
    "trump_source_counts.plot.barh()"
   ]
  },
  {
   "cell_type": "markdown",
   "metadata": {},
   "source": [
    "You should find two major sources of tweets.\n",
    "\n",
    "It is reported (for example, in [this Gawker article](http://gawker.com/our-trump-twitter-bot-filters-out-donald-trumps-new-han-1783906386)) that Trump himself uses an Android phone (a Samsung Galaxy), while his aides use iPhones.  But Trump has not confirmed this.  Also, he has reportedly [switched phones](http://indiatoday.intoday.in/technology/story/which-phone-will-president-donald-trump-use-a-blackberry-that-cant-even-click-pics/1/862350.html) since his inauguration!  How might we verify whether this is a way to identify his tweets?\n",
    "\n",
    "A retweet is a tweet that replies to (or simply repeats) a tweet by another user.  Twitter provides several mechanisms for this, as explained in [this article](https://blog.hubspot.com/blog/tabid/6307/bid/27675/How-to-Retweet-the-Right-Way-in-4-Easy-Steps.aspx#sm.00001bz3cbt3sqe1kyf4eavc4lj9a).  However, Trump has an unusual way of retweeting: He simply adds the original sender's name to the original message, puts everything in quotes, and then adds his own comments at the end.\n",
    "\n",
    "For example, this is a tweet by user @melissa7889:\n",
    "\n",
    "        @realDonaldTrump @JRACKER33 you should run for president!\n",
    "\n",
    "Here is Trump's retweet of this, from 2013:\n",
    "\n",
    "        \"@melissa7889: @realDonaldTrump @JRACKER33 you should run for president!\" Thanks,very nice!\n",
    "\n",
    "Since 2015, the usual way of retweeting this message, and the method used by Trump's aides (but not Trump himself), would have been:\n",
    "\n",
    "        Thanks,very nice! RT @melissa7889: @realDonaldTrump @JRACKER33 you should run for president!"
   ]
  },
  {
   "cell_type": "markdown",
   "metadata": {},
   "source": [
    "#### Question 15\n",
    "Write a function to identify Trump-style retweets, and another function to identify the aide-style retweets.  Then, use them to create a function called `tweet_type` that takes a tweet as its argument and returns values `\"Trump retweet\"`, `\"Aide retweet\"`, and `\"Not a retweet\"` as appropriate.  Use your function to add a `'tweet_type'` column to `trump_df`.\n",
    "\n",
    "*Hint:* Try the string method `startswith` and the Python keyword `in`."
   ]
  },
  {
   "cell_type": "code",
   "execution_count": 67,
   "metadata": {
    "collapsed": true,
    "for_assignment_type": "student"
   },
   "outputs": [],
   "source": [
    "def is_trump_style_retweet(tweet_text):\n",
    "    \"\"\"Returns True if tweet_text looks like a Trump-style retweet.\"\"\"\n",
    "    return tweet_text.startswith('\"@')\n",
    "    \n",
    "def is_aide_style_retweet(tweet_text):\n",
    "    \"\"\"Returns True if tweet_text looks like an aide-style retweet.\"\"\"\n",
    "    return \"RT\" in tweet_text\n",
    "\n",
    "def tweet_type(tweet_text):\n",
    "    \"\"\"Returns \"Trump retweet\", \"Aide retweet\", or \"Not a retweet\"\n",
    "    as appropriate.\"\"\"\n",
    "    if(is_trump_style_retweet(tweet_text)):\n",
    "        return \"Trump retweet\"\n",
    "    elif(is_aide_style_retweet(tweet_text)):\n",
    "        return \"Aide retweet\"\n",
    "    else:\n",
    "        return \"Not a retweet\"\n",
    "\n",
    "trump_df['tweet_type'] = [tweet_type(tweet.text) for tweet in trump_tweets]"
   ]
  },
  {
   "cell_type": "code",
   "execution_count": 70,
   "metadata": {
    "collapsed": false
   },
   "outputs": [
    {
     "data": {
      "text/html": [
       "<div>\n",
       "<table border=\"1\" class=\"dataframe\">\n",
       "  <thead>\n",
       "    <tr style=\"text-align: right;\">\n",
       "      <th></th>\n",
       "      <th>contributors</th>\n",
       "      <th>coordinates</th>\n",
       "      <th>created_at</th>\n",
       "      <th>entities</th>\n",
       "      <th>favorite_count</th>\n",
       "      <th>favorited</th>\n",
       "      <th>geo</th>\n",
       "      <th>id</th>\n",
       "      <th>id_str</th>\n",
       "      <th>in_reply_to_screen_name</th>\n",
       "      <th>...</th>\n",
       "      <th>in_reply_to_user_id_str</th>\n",
       "      <th>lang</th>\n",
       "      <th>place</th>\n",
       "      <th>retweet_count</th>\n",
       "      <th>retweeted</th>\n",
       "      <th>source</th>\n",
       "      <th>truncated</th>\n",
       "      <th>text</th>\n",
       "      <th>user</th>\n",
       "      <th>tweet_type</th>\n",
       "    </tr>\n",
       "  </thead>\n",
       "  <tbody>\n",
       "    <tr>\n",
       "      <th>0</th>\n",
       "      <td>None</td>\n",
       "      <td>None</td>\n",
       "      <td>2017-01-30 14:23:49</td>\n",
       "      <td>{'urls': [], 'symbols': [], 'hashtags': [], 'user_mentions': []}</td>\n",
       "      <td>96328</td>\n",
       "      <td>False</td>\n",
       "      <td>None</td>\n",
       "      <td>826073437735100418</td>\n",
       "      <td>826073437735100418</td>\n",
       "      <td>None</td>\n",
       "      <td>...</td>\n",
       "      <td>None</td>\n",
       "      <td>en</td>\n",
       "      <td>None</td>\n",
       "      <td>21031</td>\n",
       "      <td>False</td>\n",
       "      <td>Twitter for iPhone</td>\n",
       "      <td>False</td>\n",
       "      <td>Where was all the outrage from Democrats and the opposition party (the media) when our jobs were fleeing our country?</td>\n",
       "      <td>User(profile_image_url_https='https://pbs.twimg.com/profile_images/1980294624/DJT_Headshot_V2_normal.jpg', id=25073877, entities={'description': {...</td>\n",
       "      <td>Not a retweet</td>\n",
       "    </tr>\n",
       "    <tr>\n",
       "      <th>1</th>\n",
       "      <td>None</td>\n",
       "      <td>None</td>\n",
       "      <td>2017-01-30 13:43:25</td>\n",
       "      <td>{'urls': [], 'symbols': [], 'hashtags': [], 'user_mentions': []}</td>\n",
       "      <td>80355</td>\n",
       "      <td>False</td>\n",
       "      <td>None</td>\n",
       "      <td>826063267760046080</td>\n",
       "      <td>826063267760046080</td>\n",
       "      <td>None</td>\n",
       "      <td>...</td>\n",
       "      <td>None</td>\n",
       "      <td>en</td>\n",
       "      <td>None</td>\n",
       "      <td>18127</td>\n",
       "      <td>False</td>\n",
       "      <td>Twitter for Android</td>\n",
       "      <td>False</td>\n",
       "      <td>I have made my decision on who I will nominate for The United States Supreme Court. It will be announced live on Tuesday at 8:00 P.M. (W.H.)</td>\n",
       "      <td>User(profile_image_url_https='https://pbs.twimg.com/profile_images/1980294624/DJT_Headshot_V2_normal.jpg', id=25073877, entities={'description': {...</td>\n",
       "      <td>Not a retweet</td>\n",
       "    </tr>\n",
       "    <tr>\n",
       "      <th>2</th>\n",
       "      <td>None</td>\n",
       "      <td>None</td>\n",
       "      <td>2017-01-30 13:31:00</td>\n",
       "      <td>{'urls': [], 'symbols': [], 'hashtags': [], 'user_mentions': []}</td>\n",
       "      <td>107849</td>\n",
       "      <td>False</td>\n",
       "      <td>None</td>\n",
       "      <td>826060143825666051</td>\n",
       "      <td>826060143825666051</td>\n",
       "      <td>None</td>\n",
       "      <td>...</td>\n",
       "      <td>None</td>\n",
       "      <td>en</td>\n",
       "      <td>None</td>\n",
       "      <td>24261</td>\n",
       "      <td>False</td>\n",
       "      <td>Twitter for Android</td>\n",
       "      <td>False</td>\n",
       "      <td>If the ban were announced with a one week notice, the \"bad\" would rush into our country during that week. A lot of bad \"dudes\" out there!</td>\n",
       "      <td>User(profile_image_url_https='https://pbs.twimg.com/profile_images/1980294624/DJT_Headshot_V2_normal.jpg', id=25073877, entities={'description': {...</td>\n",
       "      <td>Not a retweet</td>\n",
       "    </tr>\n",
       "    <tr>\n",
       "      <th>3</th>\n",
       "      <td>None</td>\n",
       "      <td>None</td>\n",
       "      <td>2017-01-30 12:27:05</td>\n",
       "      <td>{'urls': [], 'symbols': [], 'hashtags': [], 'user_mentions': []}</td>\n",
       "      <td>114759</td>\n",
       "      <td>False</td>\n",
       "      <td>None</td>\n",
       "      <td>826044059647107073</td>\n",
       "      <td>826044059647107073</td>\n",
       "      <td>None</td>\n",
       "      <td>...</td>\n",
       "      <td>None</td>\n",
       "      <td>en</td>\n",
       "      <td>None</td>\n",
       "      <td>25488</td>\n",
       "      <td>False</td>\n",
       "      <td>Twitter for Android</td>\n",
       "      <td>False</td>\n",
       "      <td>There is nothing nice about searching for terrorists before they can enter our country. This was a big part of my campaign. Study the world!</td>\n",
       "      <td>User(profile_image_url_https='https://pbs.twimg.com/profile_images/1980294624/DJT_Headshot_V2_normal.jpg', id=25073877, entities={'description': {...</td>\n",
       "      <td>Not a retweet</td>\n",
       "    </tr>\n",
       "    <tr>\n",
       "      <th>4</th>\n",
       "      <td>None</td>\n",
       "      <td>None</td>\n",
       "      <td>2017-01-30 12:20:49</td>\n",
       "      <td>{'urls': [], 'symbols': [], 'hashtags': [], 'user_mentions': []}</td>\n",
       "      <td>92209</td>\n",
       "      <td>False</td>\n",
       "      <td>None</td>\n",
       "      <td>826042483155013632</td>\n",
       "      <td>826042483155013632</td>\n",
       "      <td>None</td>\n",
       "      <td>...</td>\n",
       "      <td>None</td>\n",
       "      <td>en</td>\n",
       "      <td>None</td>\n",
       "      <td>18286</td>\n",
       "      <td>False</td>\n",
       "      <td>Twitter for Android</td>\n",
       "      <td>False</td>\n",
       "      <td>protesters and the tears of Senator Schumer. Secretary Kelly said that all is going well with very few problems. MAKE AMERICA SAFE AGAIN!</td>\n",
       "      <td>User(profile_image_url_https='https://pbs.twimg.com/profile_images/1980294624/DJT_Headshot_V2_normal.jpg', id=25073877, entities={'description': {...</td>\n",
       "      <td>Not a retweet</td>\n",
       "    </tr>\n",
       "  </tbody>\n",
       "</table>\n",
       "<p>5 rows × 23 columns</p>\n",
       "</div>"
      ],
      "text/plain": [
       "  contributors coordinates          created_at  \\\n",
       "0         None        None 2017-01-30 14:23:49   \n",
       "1         None        None 2017-01-30 13:43:25   \n",
       "2         None        None 2017-01-30 13:31:00   \n",
       "3         None        None 2017-01-30 12:27:05   \n",
       "4         None        None 2017-01-30 12:20:49   \n",
       "\n",
       "                                                           entities  \\\n",
       "0  {'urls': [], 'symbols': [], 'hashtags': [], 'user_mentions': []}   \n",
       "1  {'urls': [], 'symbols': [], 'hashtags': [], 'user_mentions': []}   \n",
       "2  {'urls': [], 'symbols': [], 'hashtags': [], 'user_mentions': []}   \n",
       "3  {'urls': [], 'symbols': [], 'hashtags': [], 'user_mentions': []}   \n",
       "4  {'urls': [], 'symbols': [], 'hashtags': [], 'user_mentions': []}   \n",
       "\n",
       "   favorite_count favorited   geo                  id              id_str  \\\n",
       "0           96328     False  None  826073437735100418  826073437735100418   \n",
       "1           80355     False  None  826063267760046080  826063267760046080   \n",
       "2          107849     False  None  826060143825666051  826060143825666051   \n",
       "3          114759     False  None  826044059647107073  826044059647107073   \n",
       "4           92209     False  None  826042483155013632  826042483155013632   \n",
       "\n",
       "  in_reply_to_screen_name      ...        in_reply_to_user_id_str lang  place  \\\n",
       "0                    None      ...                           None   en   None   \n",
       "1                    None      ...                           None   en   None   \n",
       "2                    None      ...                           None   en   None   \n",
       "3                    None      ...                           None   en   None   \n",
       "4                    None      ...                           None   en   None   \n",
       "\n",
       "  retweet_count retweeted               source  truncated  \\\n",
       "0         21031     False   Twitter for iPhone      False   \n",
       "1         18127     False  Twitter for Android      False   \n",
       "2         24261     False  Twitter for Android      False   \n",
       "3         25488     False  Twitter for Android      False   \n",
       "4         18286     False  Twitter for Android      False   \n",
       "\n",
       "                                                                                                                                           text  \\\n",
       "0                         Where was all the outrage from Democrats and the opposition party (the media) when our jobs were fleeing our country?   \n",
       "1  I have made my decision on who I will nominate for The United States Supreme Court. It will be announced live on Tuesday at 8:00 P.M. (W.H.)   \n",
       "2     If the ban were announced with a one week notice, the \"bad\" would rush into our country during that week. A lot of bad \"dudes\" out there!   \n",
       "3  There is nothing nice about searching for terrorists before they can enter our country. This was a big part of my campaign. Study the world!   \n",
       "4     protesters and the tears of Senator Schumer. Secretary Kelly said that all is going well with very few problems. MAKE AMERICA SAFE AGAIN!   \n",
       "\n",
       "                                                                                                                                                    user  \\\n",
       "0  User(profile_image_url_https='https://pbs.twimg.com/profile_images/1980294624/DJT_Headshot_V2_normal.jpg', id=25073877, entities={'description': {...   \n",
       "1  User(profile_image_url_https='https://pbs.twimg.com/profile_images/1980294624/DJT_Headshot_V2_normal.jpg', id=25073877, entities={'description': {...   \n",
       "2  User(profile_image_url_https='https://pbs.twimg.com/profile_images/1980294624/DJT_Headshot_V2_normal.jpg', id=25073877, entities={'description': {...   \n",
       "3  User(profile_image_url_https='https://pbs.twimg.com/profile_images/1980294624/DJT_Headshot_V2_normal.jpg', id=25073877, entities={'description': {...   \n",
       "4  User(profile_image_url_https='https://pbs.twimg.com/profile_images/1980294624/DJT_Headshot_V2_normal.jpg', id=25073877, entities={'description': {...   \n",
       "\n",
       "      tweet_type  \n",
       "0  Not a retweet  \n",
       "1  Not a retweet  \n",
       "2  Not a retweet  \n",
       "3  Not a retweet  \n",
       "4  Not a retweet  \n",
       "\n",
       "[5 rows x 23 columns]"
      ]
     },
     "execution_count": 70,
     "metadata": {},
     "output_type": "execute_result"
    }
   ],
   "source": [
    "trump_df.head()"
   ]
  },
  {
   "cell_type": "code",
   "execution_count": 69,
   "metadata": {
    "collapsed": false
   },
   "outputs": [
    {
     "name": "stdout",
     "output_type": "stream",
     "text": [
      "~~~~~~~~~~~~~~~~~~~~~~~~~~~~~~~~~~~~~~~~~~~~~~~~~~~~~~~~~~~~~~~~~~~~~\n",
      "Running tests\n",
      "\n",
      "---------------------------------------------------------------------\n",
      "Test summary\n",
      "    Passed: 1\n",
      "    Failed: 0\n",
      "[ooooooooook] 100.0% passed\n",
      "\n"
     ]
    },
    {
     "data": {
      "application/javascript": [
       "IPython.notebook.save_checkpoint();"
      ],
      "text/plain": [
       "<IPython.core.display.Javascript object>"
      ]
     },
     "metadata": {},
     "output_type": "display_data"
    },
    {
     "data": {
      "application/javascript": [
       "IPython.notebook.save_notebook();"
      ],
      "text/plain": [
       "<IPython.core.display.Javascript object>"
      ]
     },
     "metadata": {},
     "output_type": "display_data"
    },
    {
     "name": "stdout",
     "output_type": "stream",
     "text": [
      "Saving notebook... Saved 'hw2.ipynb'.\n",
      "Backup... 100% complete\n",
      "Backup successful for user: jtan0325@berkeley.edu\n",
      "URL: https://okpy.org/cal/data100/sp17/hw2/backups/ejxEVR\n",
      "NOTE: this is only a backup. To submit your assignment, use:\n",
      "\tpython3 ok --submit\n",
      "\n"
     ]
    }
   ],
   "source": [
    "_ = ok.grade('q15')\n",
    "_ = ok.backup()"
   ]
  },
  {
   "cell_type": "markdown",
   "metadata": {},
   "source": [
    "#### Question 16\n",
    "Cross-classify @realDonaldTrump tweets by `source` and by `tweet_type` into a table called `trump_pivoted`.\n",
    "\n",
    "*Hint:* We did something very similar after question 7.  You don't need to write much new code for this."
   ]
  },
  {
   "cell_type": "code",
   "execution_count": 71,
   "metadata": {
    "collapsed": false
   },
   "outputs": [
    {
     "data": {
      "text/html": [
       "<div>\n",
       "<table border=\"1\" class=\"dataframe\">\n",
       "  <thead>\n",
       "    <tr style=\"text-align: right;\">\n",
       "      <th>tweet_type</th>\n",
       "      <th>Aide retweet</th>\n",
       "      <th>Not a retweet</th>\n",
       "      <th>Trump retweet</th>\n",
       "    </tr>\n",
       "    <tr>\n",
       "      <th>source</th>\n",
       "      <th></th>\n",
       "      <th></th>\n",
       "      <th></th>\n",
       "    </tr>\n",
       "  </thead>\n",
       "  <tbody>\n",
       "    <tr>\n",
       "      <th>Instagram</th>\n",
       "      <td>0</td>\n",
       "      <td>2</td>\n",
       "      <td>0</td>\n",
       "    </tr>\n",
       "    <tr>\n",
       "      <th>Media Studio</th>\n",
       "      <td>0</td>\n",
       "      <td>1</td>\n",
       "      <td>0</td>\n",
       "    </tr>\n",
       "    <tr>\n",
       "      <th>Periscope</th>\n",
       "      <td>0</td>\n",
       "      <td>1</td>\n",
       "      <td>0</td>\n",
       "    </tr>\n",
       "    <tr>\n",
       "      <th>Twitter Ads</th>\n",
       "      <td>0</td>\n",
       "      <td>1</td>\n",
       "      <td>0</td>\n",
       "    </tr>\n",
       "    <tr>\n",
       "      <th>Twitter Web Client</th>\n",
       "      <td>43</td>\n",
       "      <td>242</td>\n",
       "      <td>0</td>\n",
       "    </tr>\n",
       "    <tr>\n",
       "      <th>Twitter for Android</th>\n",
       "      <td>6</td>\n",
       "      <td>1090</td>\n",
       "      <td>332</td>\n",
       "    </tr>\n",
       "    <tr>\n",
       "      <th>Twitter for iPad</th>\n",
       "      <td>3</td>\n",
       "      <td>19</td>\n",
       "      <td>0</td>\n",
       "    </tr>\n",
       "    <tr>\n",
       "      <th>Twitter for iPhone</th>\n",
       "      <td>146</td>\n",
       "      <td>1355</td>\n",
       "      <td>4</td>\n",
       "    </tr>\n",
       "  </tbody>\n",
       "</table>\n",
       "</div>"
      ],
      "text/plain": [
       "tweet_type           Aide retweet  Not a retweet  Trump retweet\n",
       "source                                                         \n",
       "Instagram                       0              2              0\n",
       "Media Studio                    0              1              0\n",
       "Periscope                       0              1              0\n",
       "Twitter Ads                     0              1              0\n",
       "Twitter Web Client             43            242              0\n",
       "Twitter for Android             6           1090            332\n",
       "Twitter for iPad                3             19              0\n",
       "Twitter for iPhone            146           1355              4"
      ]
     },
     "execution_count": 71,
     "metadata": {},
     "output_type": "execute_result"
    }
   ],
   "source": [
    "trump_pivoted = pivot_count(trump_df, 'source', 'tweet_type')\n",
    "trump_pivoted"
   ]
  },
  {
   "cell_type": "code",
   "execution_count": 72,
   "metadata": {
    "collapsed": false
   },
   "outputs": [
    {
     "name": "stdout",
     "output_type": "stream",
     "text": [
      "~~~~~~~~~~~~~~~~~~~~~~~~~~~~~~~~~~~~~~~~~~~~~~~~~~~~~~~~~~~~~~~~~~~~~\n",
      "Running tests\n",
      "\n",
      "---------------------------------------------------------------------\n",
      "Test summary\n",
      "    Passed: 1\n",
      "    Failed: 0\n",
      "[ooooooooook] 100.0% passed\n",
      "\n"
     ]
    },
    {
     "data": {
      "application/javascript": [
       "IPython.notebook.save_checkpoint();"
      ],
      "text/plain": [
       "<IPython.core.display.Javascript object>"
      ]
     },
     "metadata": {},
     "output_type": "display_data"
    },
    {
     "data": {
      "application/javascript": [
       "IPython.notebook.save_notebook();"
      ],
      "text/plain": [
       "<IPython.core.display.Javascript object>"
      ]
     },
     "metadata": {},
     "output_type": "display_data"
    },
    {
     "name": "stdout",
     "output_type": "stream",
     "text": [
      "Saving notebook... Saved 'hw2.ipynb'.\n",
      "Backup... 100% complete\n",
      "Backup successful for user: jtan0325@berkeley.edu\n",
      "URL: https://okpy.org/cal/data100/sp17/hw2/backups/b6gnvn\n",
      "NOTE: this is only a backup. To submit your assignment, use:\n",
      "\tpython3 ok --submit\n",
      "\n"
     ]
    }
   ],
   "source": [
    "_ = ok.grade('q16')\n",
    "_ = ok.backup()"
   ]
  },
  {
   "cell_type": "markdown",
   "metadata": {},
   "source": [
    "#### Question 17\n",
    "Does the cross-classified table show evidence against the hypothesis that Trump and his advisors tweet from roughly the same sources?  Again assuming you agree with Statistician Belinda, run an hypothesis test in the next cell to verify that there is a difference in the relevant distributions.  Then use the subsequent cell to describe your methodology and results.  Are there any important caveats?"
   ]
  },
  {
   "cell_type": "code",
   "execution_count": 79,
   "metadata": {
    "collapsed": true
   },
   "outputs": [],
   "source": [
    "def trump_calc_freq(df):\n",
    "    df['Aide retweet'] = df['Aide retweet']/sum(df['Aide retweet'])\n",
    "    df['Not a retweet'] = df['Not a retweet']/sum(df['Not a retweet'])\n",
    "    df['Trump retweet'] = df['Trump retweet']/sum(df['Trump retweet'])"
   ]
  },
  {
   "cell_type": "code",
   "execution_count": 75,
   "metadata": {
    "collapsed": false
   },
   "outputs": [
    {
     "data": {
      "text/html": [
       "<div>\n",
       "<table border=\"1\" class=\"dataframe\">\n",
       "  <thead>\n",
       "    <tr style=\"text-align: right;\">\n",
       "      <th>tweet_type</th>\n",
       "      <th>Aide retweet</th>\n",
       "      <th>Not a retweet</th>\n",
       "      <th>Trump retweet</th>\n",
       "    </tr>\n",
       "    <tr>\n",
       "      <th>source</th>\n",
       "      <th></th>\n",
       "      <th></th>\n",
       "      <th></th>\n",
       "    </tr>\n",
       "  </thead>\n",
       "  <tbody>\n",
       "    <tr>\n",
       "      <th>Instagram</th>\n",
       "      <td>0.000000</td>\n",
       "      <td>0.000738</td>\n",
       "      <td>0.000000</td>\n",
       "    </tr>\n",
       "    <tr>\n",
       "      <th>Media Studio</th>\n",
       "      <td>0.000000</td>\n",
       "      <td>0.000369</td>\n",
       "      <td>0.000000</td>\n",
       "    </tr>\n",
       "    <tr>\n",
       "      <th>Periscope</th>\n",
       "      <td>0.000000</td>\n",
       "      <td>0.000369</td>\n",
       "      <td>0.000000</td>\n",
       "    </tr>\n",
       "    <tr>\n",
       "      <th>Twitter Ads</th>\n",
       "      <td>0.000000</td>\n",
       "      <td>0.000369</td>\n",
       "      <td>0.000000</td>\n",
       "    </tr>\n",
       "    <tr>\n",
       "      <th>Twitter Web Client</th>\n",
       "      <td>0.217172</td>\n",
       "      <td>0.089266</td>\n",
       "      <td>0.000000</td>\n",
       "    </tr>\n",
       "    <tr>\n",
       "      <th>Twitter for Android</th>\n",
       "      <td>0.030303</td>\n",
       "      <td>0.402066</td>\n",
       "      <td>0.988095</td>\n",
       "    </tr>\n",
       "    <tr>\n",
       "      <th>Twitter for iPad</th>\n",
       "      <td>0.015152</td>\n",
       "      <td>0.007008</td>\n",
       "      <td>0.000000</td>\n",
       "    </tr>\n",
       "    <tr>\n",
       "      <th>Twitter for iPhone</th>\n",
       "      <td>0.737374</td>\n",
       "      <td>0.499816</td>\n",
       "      <td>0.011905</td>\n",
       "    </tr>\n",
       "  </tbody>\n",
       "</table>\n",
       "</div>"
      ],
      "text/plain": [
       "tweet_type           Aide retweet  Not a retweet  Trump retweet\n",
       "source                                                         \n",
       "Instagram                0.000000       0.000738       0.000000\n",
       "Media Studio             0.000000       0.000369       0.000000\n",
       "Periscope                0.000000       0.000369       0.000000\n",
       "Twitter Ads              0.000000       0.000369       0.000000\n",
       "Twitter Web Client       0.217172       0.089266       0.000000\n",
       "Twitter for Android      0.030303       0.402066       0.988095\n",
       "Twitter for iPad         0.015152       0.007008       0.000000\n",
       "Twitter for iPhone       0.737374       0.499816       0.011905"
      ]
     },
     "execution_count": 75,
     "metadata": {},
     "output_type": "execute_result"
    }
   ],
   "source": [
    "trump_calc_freq(trump_pivoted)\n",
    "\n",
    "trump_pivoted"
   ]
  },
  {
   "cell_type": "code",
   "execution_count": 77,
   "metadata": {
    "collapsed": false
   },
   "outputs": [
    {
     "data": {
      "text/plain": [
       "0.95779220779220786"
      ]
     },
     "execution_count": 77,
     "metadata": {},
     "output_type": "execute_result"
    }
   ],
   "source": [
    "trump_observed_tvd = tvd(trump_pivoted.iloc[:,0], trump_pivoted.iloc[:,2])\n",
    "trump_observed_tvd"
   ]
  },
  {
   "cell_type": "code",
   "execution_count": 80,
   "metadata": {
    "collapsed": false
   },
   "outputs": [],
   "source": [
    "repetitions = 5000\n",
    "tvds = []\n",
    "for i in np.arange(repetitions):\n",
    "    shuffled_source = np.random.permutation(trump_df['source'])\n",
    "    trump_df['Shuffle source'] = shuffled_source\n",
    "    shuffled_counts = pivot_count(trump_df, 'Shuffle source', 'tweet_type')\n",
    "    trump_calc_freq(shuffled_counts)\n",
    "    new_tvd = tvd(shuffled_counts.iloc[:, 0], shuffled_counts.iloc[:,2])\n",
    "    tvds.append(new_tvd)"
   ]
  },
  {
   "cell_type": "code",
   "execution_count": 82,
   "metadata": {
    "collapsed": false
   },
   "outputs": [
    {
     "name": "stdout",
     "output_type": "stream",
     "text": [
      "Observed TVD: 0.957792207792\n"
     ]
    },
    {
     "data": {
      "image/png": "[encoded data removed]",
      "text/plain": [
       "<matplotlib.figure.Figure at 0x1257d5ac8>"
      ]
     },
     "metadata": {},
     "output_type": "display_data"
    }
   ],
   "source": [
    "plt.hist(tvds)\n",
    "plt.title('Empirical Distribution Under the Null')\n",
    "print('Observed TVD:', trump_observed_tvd)"
   ]
  },
  {
   "cell_type": "code",
   "execution_count": null,
   "metadata": {
    "collapsed": true
   },
   "outputs": [],
   "source": []
  },
  {
   "cell_type": "markdown",
   "metadata": {},
   "source": [
    "*Write your answer here, replacing this text.*"
   ]
  },
  {
   "cell_type": "markdown",
   "metadata": {},
   "source": [
    "We are really interested in knowing whether we can classify @realDonaldTrump tweets on the basis of the source.  Just knowing that there is a difference in source distributions isn't nearly enough.  Instead, we would like to claim something like this: \"@realDonaldTrump tweets from Twitter for Android are generally authored by Trump himself.  Other tweets are generally authored by his aides.\"\n",
    "\n",
    "#### Question 18\n",
    "If you use bootstrap methods to compute a confidence interval for the proportion of Trump aide retweets from Android phones in \"the population of all @realDonaldTrump retweets,\" you will find that the interval is [0, 0].  That's because there are no retweets from Android phones by Trump aides in our dataset.  Is it reasonable to conclude from this that Trump aides definitely never tweet from Android phones?"
   ]
  },
  {
   "cell_type": "markdown",
   "metadata": {},
   "source": [
    "*Write your answer here, replacing this text.*"
   ]
  },
  {
   "cell_type": "markdown",
   "metadata": {},
   "source": [
    "# Submitting your assignment\n",
    "First, run the next cell to run all the tests at once."
   ]
  },
  {
   "cell_type": "code",
   "execution_count": null,
   "metadata": {
    "collapsed": false
   },
   "outputs": [],
   "source": [
    "_ = ok.grade_all()"
   ]
  },
  {
   "cell_type": "markdown",
   "metadata": {},
   "source": [
    "Now, run this code in your terminal to make a\n",
    "[git commit](https://www.atlassian.com/git/tutorials/saving-changes/git-commit)\n",
    "that saves a snapshot of your changes in `git`. The last line of the cell\n",
    "runs [git push](http://stackoverflow.com/questions/2745076/what-are-the-differences-between-git-commit-and-git-push), which will send your work to your personal Github repo.\n",
    "\n",
    "**Note:** Don't add and commit your `keys.json` file!  `git add -A` will do that, but the code we've written below won't.\n",
    "\n",
    "    # Tell git to commit your changes to this notebook\n",
    "    git add sp17/hw/hw2/hw2.ipynb\n",
    "    \n",
    "    # Tell git to make the commit\n",
    "    git commit -m \"hw2 finished\"\n",
    "    \n",
    "    # Send your updates to your personal private repo\n",
    "    git push origin master\n",
    "\n",
    "Finally, we'll submit the assignment to OkPy so that the staff will know to grade it. You can submit as many times as you want, and you can choose which submission you want us to grade by going to https://okpy.org/cal/data100/sp17/."
   ]
  },
  {
   "cell_type": "code",
   "execution_count": null,
   "metadata": {
    "collapsed": false
   },
   "outputs": [],
   "source": [
    "# Now, we'll submit to okpy\n",
    "_ = ok.submit()"
   ]
  },
  {
   "cell_type": "markdown",
   "metadata": {},
   "source": [
    "Congratulations, you're done!\n",
    "\n",
    "We've only scratched the surface of this dataset.  Twitter is a rich source of data about language and social interaction, and not only for political figures.  Now you know how to access it!"
   ]
  }
 ],
 "metadata": {
  "anaconda-cloud": {},
  "kernelspec": {
   "display_name": "Python 3",
   "language": "python",
   "name": "python3"
  },
  "language_info": {
   "codemirror_mode": {
    "name": "ipython",
    "version": 3
   },
   "file_extension": ".py",
   "mimetype": "text/x-python",
   "name": "python",
   "nbconvert_exporter": "python",
   "pygments_lexer": "ipython3",
   "version": "3.5.2"
  }
 },
 "nbformat": 4,
 "nbformat_minor": 1
}
